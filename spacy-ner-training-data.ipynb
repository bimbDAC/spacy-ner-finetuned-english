{
 "cells": [
  {
   "cell_type": "code",
   "execution_count": 2,
   "metadata": {},
   "outputs": [
    {
     "data": {
      "text/plain": [
       "'c:\\\\Users\\\\izard\\\\Documents\\\\GitHub\\\\spacy-ner-finetuned-english'"
      ]
     },
     "execution_count": 2,
     "metadata": {},
     "output_type": "execute_result"
    }
   ],
   "source": [
    "import spacy\n",
    "from spacy import displacy\n",
    "import spacy_annotator as spa\n",
    "import pandas as pd\n",
    "import numpy as np\n",
    "import os\n",
    "\n",
    "os.getcwd()"
   ]
  },
  {
   "cell_type": "code",
   "execution_count": 2,
   "metadata": {},
   "outputs": [
    {
     "name": "stdout",
     "output_type": "stream",
     "text": [
      "Collecting spacy_annotator\n",
      "  Using cached spacy_annotator-2.1.3-py3-none-any.whl (6.0 kB)\n",
      "Requirement already satisfied: ipywidgets>=7.5.1 in c:\\users\\izard\\anaconda3\\envs\\pytorch\\lib\\site-packages (from spacy_annotator) (7.6.5)\n",
      "Requirement already satisfied: ipython in c:\\users\\izard\\anaconda3\\envs\\pytorch\\lib\\site-packages (from spacy_annotator) (7.31.1)\n",
      "Requirement already satisfied: spacy in c:\\users\\izard\\anaconda3\\envs\\pytorch\\lib\\site-packages (from spacy_annotator) (3.5.2)\n",
      "Requirement already satisfied: pandas in c:\\users\\izard\\anaconda3\\envs\\pytorch\\lib\\site-packages (from spacy_annotator) (1.3.5)\n",
      "Requirement already satisfied: jupyterlab-widgets>=1.0.0 in c:\\users\\izard\\anaconda3\\envs\\pytorch\\lib\\site-packages (from ipywidgets>=7.5.1->spacy_annotator) (1.0.0)\n",
      "Requirement already satisfied: ipython-genutils~=0.2.0 in c:\\users\\izard\\anaconda3\\envs\\pytorch\\lib\\site-packages (from ipywidgets>=7.5.1->spacy_annotator) (0.2.0)\n",
      "Requirement already satisfied: ipykernel>=4.5.1 in c:\\users\\izard\\appdata\\roaming\\python\\python37\\site-packages (from ipywidgets>=7.5.1->spacy_annotator) (6.16.2)\n",
      "Requirement already satisfied: traitlets>=4.3.1 in c:\\users\\izard\\anaconda3\\envs\\pytorch\\lib\\site-packages (from ipywidgets>=7.5.1->spacy_annotator) (5.7.1)\n",
      "Requirement already satisfied: nbformat>=4.2.0 in c:\\users\\izard\\anaconda3\\envs\\pytorch\\lib\\site-packages (from ipywidgets>=7.5.1->spacy_annotator) (5.7.0)\n",
      "Requirement already satisfied: widgetsnbextension~=3.5.0 in c:\\users\\izard\\anaconda3\\envs\\pytorch\\lib\\site-packages (from ipywidgets>=7.5.1->spacy_annotator) (3.5.2)\n",
      "Requirement already satisfied: matplotlib-inline in c:\\users\\izard\\anaconda3\\envs\\pytorch\\lib\\site-packages (from ipython->spacy_annotator) (0.1.6)\n",
      "Requirement already satisfied: pygments in c:\\users\\izard\\anaconda3\\envs\\pytorch\\lib\\site-packages (from ipython->spacy_annotator) (2.11.2)\n",
      "Requirement already satisfied: setuptools>=18.5 in c:\\users\\izard\\anaconda3\\envs\\pytorch\\lib\\site-packages (from ipython->spacy_annotator) (65.6.3)\n",
      "Requirement already satisfied: prompt-toolkit!=3.0.0,!=3.0.1,<3.1.0,>=2.0.0 in c:\\users\\izard\\anaconda3\\envs\\pytorch\\lib\\site-packages (from ipython->spacy_annotator) (3.0.36)\n",
      "Requirement already satisfied: colorama in c:\\users\\izard\\anaconda3\\envs\\pytorch\\lib\\site-packages (from ipython->spacy_annotator) (0.4.6)\n",
      "Requirement already satisfied: backcall in c:\\users\\izard\\anaconda3\\envs\\pytorch\\lib\\site-packages (from ipython->spacy_annotator) (0.2.0)\n",
      "Requirement already satisfied: decorator in c:\\users\\izard\\anaconda3\\envs\\pytorch\\lib\\site-packages (from ipython->spacy_annotator) (5.1.1)\n",
      "Requirement already satisfied: jedi>=0.16 in c:\\users\\izard\\anaconda3\\envs\\pytorch\\lib\\site-packages (from ipython->spacy_annotator) (0.18.1)\n",
      "Requirement already satisfied: pickleshare in c:\\users\\izard\\anaconda3\\envs\\pytorch\\lib\\site-packages (from ipython->spacy_annotator) (0.7.5)\n",
      "Requirement already satisfied: python-dateutil>=2.7.3 in c:\\users\\izard\\anaconda3\\envs\\pytorch\\lib\\site-packages (from pandas->spacy_annotator) (2.8.2)\n",
      "Requirement already satisfied: pytz>=2017.3 in c:\\users\\izard\\anaconda3\\envs\\pytorch\\lib\\site-packages (from pandas->spacy_annotator) (2022.7)\n",
      "Requirement already satisfied: numpy>=1.17.3 in c:\\users\\izard\\anaconda3\\envs\\pytorch\\lib\\site-packages (from pandas->spacy_annotator) (1.21.5)\n",
      "Requirement already satisfied: murmurhash<1.1.0,>=0.28.0 in c:\\users\\izard\\anaconda3\\envs\\pytorch\\lib\\site-packages (from spacy->spacy_annotator) (1.0.9)\n",
      "Requirement already satisfied: spacy-legacy<3.1.0,>=3.0.11 in c:\\users\\izard\\anaconda3\\envs\\pytorch\\lib\\site-packages (from spacy->spacy_annotator) (3.0.12)\n",
      "Requirement already satisfied: cymem<2.1.0,>=2.0.2 in c:\\users\\izard\\anaconda3\\envs\\pytorch\\lib\\site-packages (from spacy->spacy_annotator) (2.0.7)\n",
      "Requirement already satisfied: langcodes<4.0.0,>=3.2.0 in c:\\users\\izard\\anaconda3\\envs\\pytorch\\lib\\site-packages (from spacy->spacy_annotator) (3.3.0)\n",
      "Requirement already satisfied: smart-open<7.0.0,>=5.2.1 in c:\\users\\izard\\anaconda3\\envs\\pytorch\\lib\\site-packages (from spacy->spacy_annotator) (6.3.0)\n",
      "Requirement already satisfied: tqdm<5.0.0,>=4.38.0 in c:\\users\\izard\\anaconda3\\envs\\pytorch\\lib\\site-packages (from spacy->spacy_annotator) (4.65.0)\n",
      "Requirement already satisfied: jinja2 in c:\\users\\izard\\anaconda3\\envs\\pytorch\\lib\\site-packages (from spacy->spacy_annotator) (3.1.2)\n",
      "Requirement already satisfied: requests<3.0.0,>=2.13.0 in c:\\users\\izard\\anaconda3\\envs\\pytorch\\lib\\site-packages (from spacy->spacy_annotator) (2.28.1)\n",
      "Requirement already satisfied: pydantic!=1.8,!=1.8.1,<1.11.0,>=1.7.4 in c:\\users\\izard\\anaconda3\\envs\\pytorch\\lib\\site-packages (from spacy->spacy_annotator) (1.10.7)\n",
      "Requirement already satisfied: thinc<8.2.0,>=8.1.8 in c:\\users\\izard\\anaconda3\\envs\\pytorch\\lib\\site-packages (from spacy->spacy_annotator) (8.1.10)\n",
      "Requirement already satisfied: srsly<3.0.0,>=2.4.3 in c:\\users\\izard\\anaconda3\\envs\\pytorch\\lib\\site-packages (from spacy->spacy_annotator) (2.4.6)\n",
      "Requirement already satisfied: typer<0.8.0,>=0.3.0 in c:\\users\\izard\\anaconda3\\envs\\pytorch\\lib\\site-packages (from spacy->spacy_annotator) (0.7.0)\n",
      "Requirement already satisfied: pathy>=0.10.0 in c:\\users\\izard\\anaconda3\\envs\\pytorch\\lib\\site-packages (from spacy->spacy_annotator) (0.10.1)\n",
      "Requirement already satisfied: catalogue<2.1.0,>=2.0.6 in c:\\users\\izard\\anaconda3\\envs\\pytorch\\lib\\site-packages (from spacy->spacy_annotator) (2.0.8)\n",
      "Requirement already satisfied: packaging>=20.0 in c:\\users\\izard\\appdata\\roaming\\python\\python37\\site-packages (from spacy->spacy_annotator) (23.1)\n",
      "Requirement already satisfied: spacy-loggers<2.0.0,>=1.0.0 in c:\\users\\izard\\anaconda3\\envs\\pytorch\\lib\\site-packages (from spacy->spacy_annotator) (1.0.4)\n",
      "Requirement already satisfied: wasabi<1.2.0,>=0.9.1 in c:\\users\\izard\\anaconda3\\envs\\pytorch\\lib\\site-packages (from spacy->spacy_annotator) (1.1.1)\n",
      "Requirement already satisfied: preshed<3.1.0,>=3.0.2 in c:\\users\\izard\\anaconda3\\envs\\pytorch\\lib\\site-packages (from spacy->spacy_annotator) (3.0.8)\n",
      "Collecting typing-extensions<4.5.0,>=3.7.4.1\n",
      "  Using cached typing_extensions-4.4.0-py3-none-any.whl (26 kB)\n",
      "Requirement already satisfied: zipp>=0.5 in c:\\users\\izard\\anaconda3\\envs\\pytorch\\lib\\site-packages (from catalogue<2.1.0,>=2.0.6->spacy->spacy_annotator) (3.11.0)\n",
      "Requirement already satisfied: psutil in c:\\users\\izard\\appdata\\roaming\\python\\python37\\site-packages (from ipykernel>=4.5.1->ipywidgets>=7.5.1->spacy_annotator) (5.9.5)\n",
      "Requirement already satisfied: debugpy>=1.0 in c:\\users\\izard\\appdata\\roaming\\python\\python37\\site-packages (from ipykernel>=4.5.1->ipywidgets>=7.5.1->spacy_annotator) (1.6.7)\n",
      "Requirement already satisfied: jupyter-client>=6.1.12 in c:\\users\\izard\\appdata\\roaming\\python\\python37\\site-packages (from ipykernel>=4.5.1->ipywidgets>=7.5.1->spacy_annotator) (7.4.9)\n",
      "Requirement already satisfied: pyzmq>=17 in c:\\users\\izard\\appdata\\roaming\\python\\python37\\site-packages (from ipykernel>=4.5.1->ipywidgets>=7.5.1->spacy_annotator) (25.0.2)\n",
      "Requirement already satisfied: tornado>=6.1 in c:\\users\\izard\\appdata\\roaming\\python\\python37\\site-packages (from ipykernel>=4.5.1->ipywidgets>=7.5.1->spacy_annotator) (6.2)\n",
      "Requirement already satisfied: nest-asyncio in c:\\users\\izard\\appdata\\roaming\\python\\python37\\site-packages (from ipykernel>=4.5.1->ipywidgets>=7.5.1->spacy_annotator) (1.5.6)\n",
      "Requirement already satisfied: parso<0.9.0,>=0.8.0 in c:\\users\\izard\\anaconda3\\envs\\pytorch\\lib\\site-packages (from jedi>=0.16->ipython->spacy_annotator) (0.8.3)\n",
      "Requirement already satisfied: fastjsonschema in c:\\users\\izard\\anaconda3\\envs\\pytorch\\lib\\site-packages (from nbformat>=4.2.0->ipywidgets>=7.5.1->spacy_annotator) (2.16.2)\n",
      "Requirement already satisfied: jupyter-core in c:\\users\\izard\\appdata\\roaming\\python\\python37\\site-packages (from nbformat>=4.2.0->ipywidgets>=7.5.1->spacy_annotator) (4.12.0)\n",
      "Requirement already satisfied: importlib-metadata>=3.6 in c:\\users\\izard\\anaconda3\\envs\\pytorch\\lib\\site-packages (from nbformat>=4.2.0->ipywidgets>=7.5.1->spacy_annotator) (6.7.0)\n",
      "Requirement already satisfied: jsonschema>=2.6 in c:\\users\\izard\\anaconda3\\envs\\pytorch\\lib\\site-packages (from nbformat>=4.2.0->ipywidgets>=7.5.1->spacy_annotator) (4.17.3)\n",
      "Requirement already satisfied: wcwidth in c:\\users\\izard\\anaconda3\\envs\\pytorch\\lib\\site-packages (from prompt-toolkit!=3.0.0,!=3.0.1,<3.1.0,>=2.0.0->ipython->spacy_annotator) (0.2.5)\n",
      "Requirement already satisfied: six>=1.5 in c:\\users\\izard\\anaconda3\\envs\\pytorch\\lib\\site-packages (from python-dateutil>=2.7.3->pandas->spacy_annotator) (1.16.0)\n",
      "Requirement already satisfied: idna<4,>=2.5 in c:\\users\\izard\\anaconda3\\envs\\pytorch\\lib\\site-packages (from requests<3.0.0,>=2.13.0->spacy->spacy_annotator) (3.4)\n",
      "Requirement already satisfied: urllib3<1.27,>=1.21.1 in c:\\users\\izard\\anaconda3\\envs\\pytorch\\lib\\site-packages (from requests<3.0.0,>=2.13.0->spacy->spacy_annotator) (1.26.14)\n",
      "Requirement already satisfied: certifi>=2017.4.17 in c:\\users\\izard\\anaconda3\\envs\\pytorch\\lib\\site-packages (from requests<3.0.0,>=2.13.0->spacy->spacy_annotator) (2023.7.22)\n",
      "Requirement already satisfied: charset-normalizer<3,>=2 in c:\\users\\izard\\anaconda3\\envs\\pytorch\\lib\\site-packages (from requests<3.0.0,>=2.13.0->spacy->spacy_annotator) (2.0.4)\n",
      "Requirement already satisfied: blis<0.8.0,>=0.7.8 in c:\\users\\izard\\anaconda3\\envs\\pytorch\\lib\\site-packages (from thinc<8.2.0,>=8.1.8->spacy->spacy_annotator) (0.7.9)\n",
      "Requirement already satisfied: confection<1.0.0,>=0.0.1 in c:\\users\\izard\\anaconda3\\envs\\pytorch\\lib\\site-packages (from thinc<8.2.0,>=8.1.8->spacy->spacy_annotator) (0.0.4)\n",
      "Requirement already satisfied: click<9.0.0,>=7.1.1 in c:\\users\\izard\\anaconda3\\envs\\pytorch\\lib\\site-packages (from typer<0.8.0,>=0.3.0->spacy->spacy_annotator) (8.1.3)\n",
      "Requirement already satisfied: notebook>=4.4.1 in c:\\users\\izard\\anaconda3\\envs\\pytorch\\lib\\site-packages (from widgetsnbextension~=3.5.0->ipywidgets>=7.5.1->spacy_annotator) (6.5.2)\n",
      "Requirement already satisfied: MarkupSafe>=2.0 in c:\\users\\izard\\anaconda3\\envs\\pytorch\\lib\\site-packages (from jinja2->spacy->spacy_annotator) (2.1.1)\n",
      "Requirement already satisfied: importlib-resources>=1.4.0 in c:\\users\\izard\\anaconda3\\envs\\pytorch\\lib\\site-packages (from jsonschema>=2.6->nbformat>=4.2.0->ipywidgets>=7.5.1->spacy_annotator) (5.2.0)\n",
      "Requirement already satisfied: attrs>=17.4.0 in c:\\users\\izard\\anaconda3\\envs\\pytorch\\lib\\site-packages (from jsonschema>=2.6->nbformat>=4.2.0->ipywidgets>=7.5.1->spacy_annotator) (22.1.0)\n",
      "Requirement already satisfied: pkgutil-resolve-name>=1.3.10 in c:\\users\\izard\\anaconda3\\envs\\pytorch\\lib\\site-packages (from jsonschema>=2.6->nbformat>=4.2.0->ipywidgets>=7.5.1->spacy_annotator) (1.3.10)\n",
      "Requirement already satisfied: pyrsistent!=0.17.0,!=0.17.1,!=0.17.2,>=0.14.0 in c:\\users\\izard\\anaconda3\\envs\\pytorch\\lib\\site-packages (from jsonschema>=2.6->nbformat>=4.2.0->ipywidgets>=7.5.1->spacy_annotator) (0.18.0)\n",
      "Requirement already satisfied: entrypoints in c:\\users\\izard\\appdata\\roaming\\python\\python37\\site-packages (from jupyter-client>=6.1.12->ipykernel>=4.5.1->ipywidgets>=7.5.1->spacy_annotator) (0.4)\n",
      "Requirement already satisfied: pywin32>=1.0 in c:\\users\\izard\\appdata\\roaming\\python\\python37\\site-packages (from jupyter-core->nbformat>=4.2.0->ipywidgets>=7.5.1->spacy_annotator) (306)\n",
      "Requirement already satisfied: terminado>=0.8.3 in c:\\users\\izard\\anaconda3\\envs\\pytorch\\lib\\site-packages (from notebook>=4.4.1->widgetsnbextension~=3.5.0->ipywidgets>=7.5.1->spacy_annotator) (0.17.1)\n",
      "Requirement already satisfied: argon2-cffi in c:\\users\\izard\\anaconda3\\envs\\pytorch\\lib\\site-packages (from notebook>=4.4.1->widgetsnbextension~=3.5.0->ipywidgets>=7.5.1->spacy_annotator) (20.1.0)\n",
      "Requirement already satisfied: prometheus-client in c:\\users\\izard\\anaconda3\\envs\\pytorch\\lib\\site-packages (from notebook>=4.4.1->widgetsnbextension~=3.5.0->ipywidgets>=7.5.1->spacy_annotator) (0.14.1)\n",
      "Requirement already satisfied: nbconvert>=5 in c:\\users\\izard\\anaconda3\\envs\\pytorch\\lib\\site-packages (from notebook>=4.4.1->widgetsnbextension~=3.5.0->ipywidgets>=7.5.1->spacy_annotator) (6.4.4)\n",
      "Requirement already satisfied: Send2Trash>=1.8.0 in c:\\users\\izard\\anaconda3\\envs\\pytorch\\lib\\site-packages (from notebook>=4.4.1->widgetsnbextension~=3.5.0->ipywidgets>=7.5.1->spacy_annotator) (1.8.0)\n",
      "Requirement already satisfied: nbclassic>=0.4.7 in c:\\users\\izard\\anaconda3\\envs\\pytorch\\lib\\site-packages (from notebook>=4.4.1->widgetsnbextension~=3.5.0->ipywidgets>=7.5.1->spacy_annotator) (0.5.2)\n",
      "Requirement already satisfied: jupyter-server>=1.8 in c:\\users\\izard\\anaconda3\\envs\\pytorch\\lib\\site-packages (from nbclassic>=0.4.7->notebook>=4.4.1->widgetsnbextension~=3.5.0->ipywidgets>=7.5.1->spacy_annotator) (1.23.4)\n",
      "Requirement already satisfied: notebook-shim>=0.1.0 in c:\\users\\izard\\anaconda3\\envs\\pytorch\\lib\\site-packages (from nbclassic>=0.4.7->notebook>=4.4.1->widgetsnbextension~=3.5.0->ipywidgets>=7.5.1->spacy_annotator) (0.2.2)\n",
      "Requirement already satisfied: testpath in c:\\users\\izard\\anaconda3\\envs\\pytorch\\lib\\site-packages (from nbconvert>=5->notebook>=4.4.1->widgetsnbextension~=3.5.0->ipywidgets>=7.5.1->spacy_annotator) (0.6.0)\n",
      "Requirement already satisfied: pandocfilters>=1.4.1 in c:\\users\\izard\\anaconda3\\envs\\pytorch\\lib\\site-packages (from nbconvert>=5->notebook>=4.4.1->widgetsnbextension~=3.5.0->ipywidgets>=7.5.1->spacy_annotator) (1.5.0)\n",
      "Requirement already satisfied: mistune<2,>=0.8.1 in c:\\users\\izard\\anaconda3\\envs\\pytorch\\lib\\site-packages (from nbconvert>=5->notebook>=4.4.1->widgetsnbextension~=3.5.0->ipywidgets>=7.5.1->spacy_annotator) (0.8.4)\n",
      "Requirement already satisfied: beautifulsoup4 in c:\\users\\izard\\anaconda3\\envs\\pytorch\\lib\\site-packages (from nbconvert>=5->notebook>=4.4.1->widgetsnbextension~=3.5.0->ipywidgets>=7.5.1->spacy_annotator) (4.11.1)\n",
      "Requirement already satisfied: nbclient<0.6.0,>=0.5.0 in c:\\users\\izard\\anaconda3\\envs\\pytorch\\lib\\site-packages (from nbconvert>=5->notebook>=4.4.1->widgetsnbextension~=3.5.0->ipywidgets>=7.5.1->spacy_annotator) (0.5.13)\n",
      "Requirement already satisfied: bleach in c:\\users\\izard\\anaconda3\\envs\\pytorch\\lib\\site-packages (from nbconvert>=5->notebook>=4.4.1->widgetsnbextension~=3.5.0->ipywidgets>=7.5.1->spacy_annotator) (4.1.0)\n",
      "Requirement already satisfied: defusedxml in c:\\users\\izard\\anaconda3\\envs\\pytorch\\lib\\site-packages (from nbconvert>=5->notebook>=4.4.1->widgetsnbextension~=3.5.0->ipywidgets>=7.5.1->spacy_annotator) (0.7.1)\n",
      "Requirement already satisfied: jupyterlab-pygments in c:\\users\\izard\\anaconda3\\envs\\pytorch\\lib\\site-packages (from nbconvert>=5->notebook>=4.4.1->widgetsnbextension~=3.5.0->ipywidgets>=7.5.1->spacy_annotator) (0.1.2)\n",
      "Requirement already satisfied: pywinpty>=1.1.0 in c:\\users\\izard\\anaconda3\\envs\\pytorch\\lib\\site-packages (from terminado>=0.8.3->notebook>=4.4.1->widgetsnbextension~=3.5.0->ipywidgets>=7.5.1->spacy_annotator) (2.0.10)\n",
      "Requirement already satisfied: cffi>=1.0.0 in c:\\users\\izard\\anaconda3\\envs\\pytorch\\lib\\site-packages (from argon2-cffi->notebook>=4.4.1->widgetsnbextension~=3.5.0->ipywidgets>=7.5.1->spacy_annotator) (1.15.1)\n",
      "Requirement already satisfied: pycparser in c:\\users\\izard\\anaconda3\\envs\\pytorch\\lib\\site-packages (from cffi>=1.0.0->argon2-cffi->notebook>=4.4.1->widgetsnbextension~=3.5.0->ipywidgets>=7.5.1->spacy_annotator) (2.21)\n",
      "Requirement already satisfied: anyio<4,>=3.1.0 in c:\\users\\izard\\anaconda3\\envs\\pytorch\\lib\\site-packages (from jupyter-server>=1.8->nbclassic>=0.4.7->notebook>=4.4.1->widgetsnbextension~=3.5.0->ipywidgets>=7.5.1->spacy_annotator) (3.5.0)\n",
      "Requirement already satisfied: websocket-client in c:\\users\\izard\\anaconda3\\envs\\pytorch\\lib\\site-packages (from jupyter-server>=1.8->nbclassic>=0.4.7->notebook>=4.4.1->widgetsnbextension~=3.5.0->ipywidgets>=7.5.1->spacy_annotator) (0.58.0)\n",
      "Requirement already satisfied: soupsieve>1.2 in c:\\users\\izard\\anaconda3\\envs\\pytorch\\lib\\site-packages (from beautifulsoup4->nbconvert>=5->notebook>=4.4.1->widgetsnbextension~=3.5.0->ipywidgets>=7.5.1->spacy_annotator) (2.3.2.post1)\n",
      "Requirement already satisfied: webencodings in c:\\users\\izard\\anaconda3\\envs\\pytorch\\lib\\site-packages (from bleach->nbconvert>=5->notebook>=4.4.1->widgetsnbextension~=3.5.0->ipywidgets>=7.5.1->spacy_annotator) (0.5.1)\n",
      "Requirement already satisfied: sniffio>=1.1 in c:\\users\\izard\\anaconda3\\envs\\pytorch\\lib\\site-packages (from anyio<4,>=3.1.0->jupyter-server>=1.8->nbclassic>=0.4.7->notebook>=4.4.1->widgetsnbextension~=3.5.0->ipywidgets>=7.5.1->spacy_annotator) (1.2.0)\n",
      "Installing collected packages: typing-extensions, spacy_annotator\n",
      "  Attempting uninstall: typing-extensions\n",
      "    Found existing installation: typing_extensions 4.7.1\n",
      "    Uninstalling typing_extensions-4.7.1:\n",
      "      Successfully uninstalled typing_extensions-4.7.1\n",
      "Successfully installed spacy_annotator-2.1.3 typing-extensions-4.4.0\n"
     ]
    },
    {
     "name": "stderr",
     "output_type": "stream",
     "text": [
      "ERROR: pip's dependency resolver does not currently take into account all the packages that are installed. This behaviour is the source of the following dependency conflicts.\n",
      "platformdirs 3.11.0 requires typing-extensions>=4.7.1; python_version < \"3.8\", but you have typing-extensions 4.4.0 which is incompatible.\n",
      "flake8 5.0.4 requires importlib-metadata<4.3,>=1.1.0; python_version < \"3.8\", but you have importlib-metadata 6.7.0 which is incompatible.\n",
      "fake-useragent 1.2.1 requires importlib-metadata~=4.0; python_version < \"3.8\", but you have importlib-metadata 6.7.0 which is incompatible.\n"
     ]
    }
   ],
   "source": [
    "! pip install spacy_annotator"
   ]
  },
  {
   "cell_type": "code",
   "execution_count": 3,
   "metadata": {},
   "outputs": [
    {
     "name": "stderr",
     "output_type": "stream",
     "text": [
      "c:\\Users\\izard\\miniconda3\\envs\\venv\\lib\\site-packages\\spacy\\util.py:910: UserWarning: [W095] Model 'en_pipeline' (0.0.0) was trained with spaCy v3.5.2 and may not be 100% compatible with the current version (3.8.2). If you see errors or degraded performance, download a newer compatible model or retrain your custom model with the current spaCy version. For more details and available updates, run: python -m spacy validate\n",
      "  warnings.warn(warn_msg)\n"
     ]
    }
   ],
   "source": [
    "#nlp = spacy.blank(\"en\") # load a new spacy model for first time \n",
    "nlp = spacy.load(\"output/model-best\") # load custom model after first time train"
   ]
  },
  {
   "cell_type": "code",
   "execution_count": 4,
   "metadata": {},
   "outputs": [
    {
     "data": {
      "text/html": [
       "<div>\n",
       "<style scoped>\n",
       "    .dataframe tbody tr th:only-of-type {\n",
       "        vertical-align: middle;\n",
       "    }\n",
       "\n",
       "    .dataframe tbody tr th {\n",
       "        vertical-align: top;\n",
       "    }\n",
       "\n",
       "    .dataframe thead th {\n",
       "        text-align: right;\n",
       "    }\n",
       "</style>\n",
       "<table border=\"1\" class=\"dataframe\">\n",
       "  <thead>\n",
       "    <tr style=\"text-align: right;\">\n",
       "      <th></th>\n",
       "      <th>text</th>\n",
       "    </tr>\n",
       "  </thead>\n",
       "  <tbody>\n",
       "    <tr>\n",
       "      <th>0</th>\n",
       "      <td>S P Setia is expanding its footprint in Austra...</td>\n",
       "    </tr>\n",
       "    <tr>\n",
       "      <th>1</th>\n",
       "      <td>Domestic flights were cancelled and almost 3,0...</td>\n",
       "    </tr>\n",
       "    <tr>\n",
       "      <th>2</th>\n",
       "      <td>RAM Ratings has placed KLK and Batu Kawan on a...</td>\n",
       "    </tr>\n",
       "    <tr>\n",
       "      <th>3</th>\n",
       "      <td>+4.8%), reaching RM587.5b contribution to tota...</td>\n",
       "    </tr>\n",
       "    <tr>\n",
       "      <th>4</th>\n",
       "      <td>Prime Minister Datuk Seri Anwar Ibrahim will l...</td>\n",
       "    </tr>\n",
       "    <tr>\n",
       "      <th>5</th>\n",
       "      <td>Hong Leong Financial Group’s FY23 Core net pro...</td>\n",
       "    </tr>\n",
       "    <tr>\n",
       "      <th>6</th>\n",
       "      <td>Bank Negara Malaysia had on 18 May 2023, impos...</td>\n",
       "    </tr>\n",
       "    <tr>\n",
       "      <th>7</th>\n",
       "      <td>Bank Negara Malaysia had, on 29 December 2022,...</td>\n",
       "    </tr>\n",
       "    <tr>\n",
       "      <th>8</th>\n",
       "      <td>Indonesia’s Nusantara Capital City Authority i...</td>\n",
       "    </tr>\n",
       "    <tr>\n",
       "      <th>9</th>\n",
       "      <td>ASEANmember countries need to collaborate to m...</td>\n",
       "    </tr>\n",
       "  </tbody>\n",
       "</table>\n",
       "</div>"
      ],
      "text/plain": [
       "                                                text\n",
       "0  S P Setia is expanding its footprint in Austra...\n",
       "1  Domestic flights were cancelled and almost 3,0...\n",
       "2  RAM Ratings has placed KLK and Batu Kawan on a...\n",
       "3  +4.8%), reaching RM587.5b contribution to tota...\n",
       "4  Prime Minister Datuk Seri Anwar Ibrahim will l...\n",
       "5  Hong Leong Financial Group’s FY23 Core net pro...\n",
       "6  Bank Negara Malaysia had on 18 May 2023, impos...\n",
       "7  Bank Negara Malaysia had, on 29 December 2022,...\n",
       "8  Indonesia’s Nusantara Capital City Authority i...\n",
       "9  ASEANmember countries need to collaborate to m..."
      ]
     },
     "execution_count": 4,
     "metadata": {},
     "output_type": "execute_result"
    }
   ],
   "source": [
    "# prepare train data\n",
    "import spacy_annotator as spa\n",
    "\n",
    "train_data=pd.DataFrame({\n",
    "    \"text\":pd.read_parquet('./sample.parquet').loc[91:100]['Content'].tolist()})\n",
    "\n",
    "train_data=train_data[~((train_data['text'].str.contains('[\\u4e00-\\u9fff]+'))|(train_data['text'].isnull()))].reset_index(drop=True)\n",
    "train_data['text']=train_data['text'].str.replace(r'(.+\\d\\)\\:)|(.+[A-Z]\\):)|(.+[A-Z]:)','',regex=True).str.strip()\n",
    "train_data"
   ]
  },
  {
   "attachments": {},
   "cell_type": "markdown",
   "metadata": {},
   "source": [
    "### Reference for Text Annotation\n",
    "\n",
    "> - <sup>PERSON:      People, including fictional.</sup>\n",
    "> - <sup>NORP:        Nationalities or religious or political groups.</sup>\n",
    "> - <sup>FAC:         Buildings, airports, highways, bridges, etc.</sup>\n",
    "> - <sup>ORG:         Companies, agencies, institutions, etc.</sup>\n",
    "> - <sup>GPE:         Countries, cities, states.</sup>\n",
    "> - <sup>LOC:         Non-GPE locations, mountain ranges, bodies of water.</sup>\n",
    "> - <sup>PRODUCT:     Objects, vehicles, foods, etc. (Not services.)</sup>\n",
    "> - <sup>EVENT:       Named hurricanes, battles, wars, sports events, etc.</sup>\n",
    "> - <sup>WORK_OF_ART: Titles of books, songs, etc.</sup>\n",
    "> - <sup>LAW:         Named documents made into laws.</sup>\n",
    "> - <sup>LANGUAGE:    Any named language.</sup>\n",
    "> - <sup>DATE:        Absolute or relative dates or periods.</sup>\n",
    "> - <sup>TIME:        Times smaller than a day.</sup>\n",
    "> - <sup>PERCENT:     Percentage, including ”%“.</sup>\n",
    "> - <sup>MONEY:       Monetary values, including unit.</sup>\n",
    "> - <sup>QUANTITY:    Measurements, as of weight or distance.</sup>\n",
    "> - <sup>ORDINAL:     “first”, “second”, etc.</sup>\n",
    "> - <sup>CARDINAL:    Numerals that do not fall under another type.</sup>"
   ]
  },
  {
   "cell_type": "code",
   "execution_count": 6,
   "metadata": {},
   "outputs": [],
   "source": [
    "annotator=spa.Annotator(labels=[\"GPE\",\"PERSON\",\"ORG\",\"FAC\",\"MONEY\",\"NORP\",\"LOC\",\"PRODUCT\",\"EVENT\",\"PERCENT\",\"WORK_OF_ART\",\"TIME\",\"ORDINAL\",\"CARDINAL\",\"QUANTITY\",\"LAW\"],model=nlp) #annotate train data"
   ]
  },
  {
   "cell_type": "code",
   "execution_count": 7,
   "metadata": {},
   "outputs": [
    {
     "data": {
      "application/vnd.jupyter.widget-view+json": {
       "model_id": "181d69872c754848ac5df0d15249784c",
       "version_major": 2,
       "version_minor": 0
      },
      "text/plain": [
       "HTML(value='-1 examples annotated, 11 examples left')"
      ]
     },
     "metadata": {},
     "output_type": "display_data"
    },
    {
     "data": {
      "application/vnd.jupyter.widget-view+json": {
       "model_id": "aba94556efcd42ac9e1a6e5b0e63d324",
       "version_major": 2,
       "version_minor": 0
      },
      "text/plain": [
       "Text(value='', description='GPE', layout=Layout(width='auto'), placeholder='ent one, ent two, ent three')"
      ]
     },
     "metadata": {},
     "output_type": "display_data"
    },
    {
     "data": {
      "application/vnd.jupyter.widget-view+json": {
       "model_id": "0714a48f1330481a8d6792a97c38dced",
       "version_major": 2,
       "version_minor": 0
      },
      "text/plain": [
       "Text(value='', description='PERSON', layout=Layout(width='auto'), placeholder='ent one, ent two, ent three')"
      ]
     },
     "metadata": {},
     "output_type": "display_data"
    },
    {
     "data": {
      "application/vnd.jupyter.widget-view+json": {
       "model_id": "9d8e394098b14da39b38441e20c4a68e",
       "version_major": 2,
       "version_minor": 0
      },
      "text/plain": [
       "Text(value='', description='ORG', layout=Layout(width='auto'), placeholder='ent one, ent two, ent three')"
      ]
     },
     "metadata": {},
     "output_type": "display_data"
    },
    {
     "data": {
      "application/vnd.jupyter.widget-view+json": {
       "model_id": "369e36b6835247dcb50a06d6ea633b79",
       "version_major": 2,
       "version_minor": 0
      },
      "text/plain": [
       "Text(value='', description='FAC', layout=Layout(width='auto'), placeholder='ent one, ent two, ent three')"
      ]
     },
     "metadata": {},
     "output_type": "display_data"
    },
    {
     "data": {
      "application/vnd.jupyter.widget-view+json": {
       "model_id": "9bff0e075bb54862ba10223303db21c9",
       "version_major": 2,
       "version_minor": 0
      },
      "text/plain": [
       "Text(value='', description='MONEY', layout=Layout(width='auto'), placeholder='ent one, ent two, ent three')"
      ]
     },
     "metadata": {},
     "output_type": "display_data"
    },
    {
     "data": {
      "application/vnd.jupyter.widget-view+json": {
       "model_id": "8ed6e78259944a708088cfbbda1d8012",
       "version_major": 2,
       "version_minor": 0
      },
      "text/plain": [
       "Text(value='', description='NORP', layout=Layout(width='auto'), placeholder='ent one, ent two, ent three')"
      ]
     },
     "metadata": {},
     "output_type": "display_data"
    },
    {
     "data": {
      "application/vnd.jupyter.widget-view+json": {
       "model_id": "1f90399d832640f6a73fd5a0d4940bf5",
       "version_major": 2,
       "version_minor": 0
      },
      "text/plain": [
       "Text(value='', description='LOC', layout=Layout(width='auto'), placeholder='ent one, ent two, ent three')"
      ]
     },
     "metadata": {},
     "output_type": "display_data"
    },
    {
     "data": {
      "application/vnd.jupyter.widget-view+json": {
       "model_id": "0e5fa2305cbf4d5292c6e217332cac39",
       "version_major": 2,
       "version_minor": 0
      },
      "text/plain": [
       "Text(value='', description='PRODUCT', layout=Layout(width='auto'), placeholder='ent one, ent two, ent three')"
      ]
     },
     "metadata": {},
     "output_type": "display_data"
    },
    {
     "data": {
      "application/vnd.jupyter.widget-view+json": {
       "model_id": "58c15d8664274de4af3aa1715c529fcc",
       "version_major": 2,
       "version_minor": 0
      },
      "text/plain": [
       "Text(value='', description='EVENT', layout=Layout(width='auto'), placeholder='ent one, ent two, ent three')"
      ]
     },
     "metadata": {},
     "output_type": "display_data"
    },
    {
     "data": {
      "application/vnd.jupyter.widget-view+json": {
       "model_id": "a2922269bed747eabffdb43cde773cad",
       "version_major": 2,
       "version_minor": 0
      },
      "text/plain": [
       "Text(value='', description='PERCENT', layout=Layout(width='auto'), placeholder='ent one, ent two, ent three')"
      ]
     },
     "metadata": {},
     "output_type": "display_data"
    },
    {
     "data": {
      "application/vnd.jupyter.widget-view+json": {
       "model_id": "8b84d3dedc8444a7b7ac5d368ff0d799",
       "version_major": 2,
       "version_minor": 0
      },
      "text/plain": [
       "Text(value='', description='WORK_OF_ART', layout=Layout(width='auto'), placeholder='ent one, ent two, ent thre…"
      ]
     },
     "metadata": {},
     "output_type": "display_data"
    },
    {
     "data": {
      "application/vnd.jupyter.widget-view+json": {
       "model_id": "f50541b11c574c8e8b311bab5f130e0b",
       "version_major": 2,
       "version_minor": 0
      },
      "text/plain": [
       "Text(value='', description='TIME', layout=Layout(width='auto'), placeholder='ent one, ent two, ent three')"
      ]
     },
     "metadata": {},
     "output_type": "display_data"
    },
    {
     "data": {
      "application/vnd.jupyter.widget-view+json": {
       "model_id": "c78ca810f0d54374aa0b7da178b4f765",
       "version_major": 2,
       "version_minor": 0
      },
      "text/plain": [
       "Text(value='', description='ORDINAL', layout=Layout(width='auto'), placeholder='ent one, ent two, ent three')"
      ]
     },
     "metadata": {},
     "output_type": "display_data"
    },
    {
     "data": {
      "application/vnd.jupyter.widget-view+json": {
       "model_id": "f960982171a144adbc3981161df1c539",
       "version_major": 2,
       "version_minor": 0
      },
      "text/plain": [
       "Text(value='', description='CARDINAL', layout=Layout(width='auto'), placeholder='ent one, ent two, ent three')"
      ]
     },
     "metadata": {},
     "output_type": "display_data"
    },
    {
     "data": {
      "application/vnd.jupyter.widget-view+json": {
       "model_id": "030c9b0cc20c404582b7eb981880dfca",
       "version_major": 2,
       "version_minor": 0
      },
      "text/plain": [
       "Text(value='', description='QUANTITY', layout=Layout(width='auto'), placeholder='ent one, ent two, ent three')"
      ]
     },
     "metadata": {},
     "output_type": "display_data"
    },
    {
     "data": {
      "application/vnd.jupyter.widget-view+json": {
       "model_id": "2aed76f74d904bec92af485d632306b4",
       "version_major": 2,
       "version_minor": 0
      },
      "text/plain": [
       "Text(value='', description='LAW', layout=Layout(width='auto'), placeholder='ent one, ent two, ent three')"
      ]
     },
     "metadata": {},
     "output_type": "display_data"
    },
    {
     "data": {
      "application/vnd.jupyter.widget-view+json": {
       "model_id": "f1c0fefa464e42c6ba37dce05ffb8ae9",
       "version_major": 2,
       "version_minor": 0
      },
      "text/plain": [
       "HBox(children=(Button(button_style='success', description='submit', style=ButtonStyle()), Button(button_style=…"
      ]
     },
     "metadata": {},
     "output_type": "display_data"
    },
    {
     "data": {
      "application/vnd.jupyter.widget-view+json": {
       "model_id": "74300276a4f04a6496d73118036fe963",
       "version_major": 2,
       "version_minor": 0
      },
      "text/plain": [
       "Output()"
      ]
     },
     "metadata": {},
     "output_type": "display_data"
    }
   ],
   "source": [
    "df_labels=annotator.annotate(df=train_data,col_text=\"text\",shuffle=False)"
   ]
  },
  {
   "cell_type": "code",
   "execution_count": null,
   "metadata": {},
   "outputs": [],
   "source": [
    "spacy_annotations = annotator.to_spacy(df_labels,\"./train/train_1_100.spacy\")"
   ]
  },
  {
   "cell_type": "code",
   "execution_count": 9,
   "metadata": {},
   "outputs": [
    {
     "name": "stdout",
     "output_type": "stream",
     "text": [
      "\u001b[38;5;2m✔ Auto-filled config with all values\u001b[0m\n",
      "\u001b[38;5;2m✔ Saved config\u001b[0m\n",
      "config.cfg\n",
      "You can now add your data and train your pipeline:\n",
      "python -m spacy train config.cfg --paths.train ./train.spacy --paths.dev ./dev.spacy\n"
     ]
    },
    {
     "name": "stderr",
     "output_type": "stream",
     "text": [
      "c:\\Users\\izard\\miniconda3\\envs\\venv\\lib\\site-packages\\transformers\\utils\\generic.py:441: FutureWarning: `torch.utils._pytree._register_pytree_node` is deprecated. Please use `torch.utils._pytree.register_pytree_node` instead.\n",
      "  _torch_pytree._register_pytree_node(\n",
      "c:\\Users\\izard\\miniconda3\\envs\\venv\\lib\\site-packages\\transformers\\utils\\generic.py:309: FutureWarning: `torch.utils._pytree._register_pytree_node` is deprecated. Please use `torch.utils._pytree.register_pytree_node` instead.\n",
      "  _torch_pytree._register_pytree_node(\n",
      "c:\\Users\\izard\\miniconda3\\envs\\venv\\lib\\site-packages\\spacy\\util.py:910: UserWarning: [W095] Model 'en_pipeline' (0.0.0) was trained with spaCy v3.5.2 and may not be 100% compatible with the current version (3.8.2). If you see errors or degraded performance, download a newer compatible model or retrain your custom model with the current spaCy version. For more details and available updates, run: python -m spacy validate\n",
      "  warnings.warn(warn_msg)\n"
     ]
    }
   ],
   "source": [
    "# to re-wrote config.cfg file\n",
    "! python -m spacy init fill-config base_config_gpu.cfg config.cfg\n"
   ]
  },
  {
   "cell_type": "code",
   "execution_count": 10,
   "metadata": {},
   "outputs": [
    {
     "name": "stdout",
     "output_type": "stream",
     "text": [
      "\u001b[38;5;4mℹ Saving to output directory: output\u001b[0m\n",
      "\u001b[38;5;4mℹ Using GPU: 0\u001b[0m\n"
     ]
    },
    {
     "name": "stderr",
     "output_type": "stream",
     "text": [
      "Traceback (most recent call last):\n",
      "  File \"c:\\Users\\izard\\miniconda3\\envs\\venv\\lib\\runpy.py\", line 196, in _run_module_as_main\n",
      "    return _run_code(code, main_globals, None,\n",
      "  File \"c:\\Users\\izard\\miniconda3\\envs\\venv\\lib\\runpy.py\", line 86, in _run_code\n",
      "    exec(code, run_globals)\n",
      "  File \"c:\\Users\\izard\\miniconda3\\envs\\venv\\lib\\site-packages\\spacy\\__main__.py\", line 4, in <module>\n",
      "    setup_cli()\n",
      "  File \"c:\\Users\\izard\\miniconda3\\envs\\venv\\lib\\site-packages\\spacy\\cli\\_util.py\", line 87, in setup_cli\n",
      "    command(prog_name=COMMAND)\n",
      "  File \"c:\\Users\\izard\\miniconda3\\envs\\venv\\lib\\site-packages\\click\\core.py\", line 1157, in __call__\n",
      "    return self.main(*args, **kwargs)\n",
      "  File \"c:\\Users\\izard\\miniconda3\\envs\\venv\\lib\\site-packages\\typer\\core.py\", line 778, in main\n",
      "    return _main(\n",
      "  File \"c:\\Users\\izard\\miniconda3\\envs\\venv\\lib\\site-packages\\typer\\core.py\", line 216, in _main\n",
      "    rv = self.invoke(ctx)\n",
      "  File \"c:\\Users\\izard\\miniconda3\\envs\\venv\\lib\\site-packages\\click\\core.py\", line 1688, in invoke\n",
      "    return _process_result(sub_ctx.command.invoke(sub_ctx))\n",
      "  File \"c:\\Users\\izard\\miniconda3\\envs\\venv\\lib\\site-packages\\click\\core.py\", line 1434, in invoke\n",
      "    return ctx.invoke(self.callback, **ctx.params)\n",
      "  File \"c:\\Users\\izard\\miniconda3\\envs\\venv\\lib\\site-packages\\click\\core.py\", line 783, in invoke\n",
      "    return __callback(*args, **kwargs)\n",
      "  File \"c:\\Users\\izard\\miniconda3\\envs\\venv\\lib\\site-packages\\typer\\main.py\", line 683, in wrapper\n",
      "    return callback(**use_params)  # type: ignore\n",
      "  File \"c:\\Users\\izard\\miniconda3\\envs\\venv\\lib\\site-packages\\spacy\\cli\\train.py\", line 54, in train_cli\n",
      "    train(config_path, output_path, use_gpu=use_gpu, overrides=overrides)\n",
      "  File \"c:\\Users\\izard\\miniconda3\\envs\\venv\\lib\\site-packages\\spacy\\cli\\train.py\", line 76, in train\n",
      "    setup_gpu(use_gpu)\n",
      "  File \"c:\\Users\\izard\\miniconda3\\envs\\venv\\lib\\site-packages\\spacy\\cli\\_util.py\", line 272, in setup_gpu\n",
      "    require_gpu(use_gpu)\n",
      "  File \"c:\\Users\\izard\\miniconda3\\envs\\venv\\lib\\site-packages\\thinc\\util.py\", line 230, in require_gpu\n",
      "    raise ValueError(\"Cannot use GPU, CuPy is not installed\")\n",
      "ValueError: Cannot use GPU, CuPy is not installed\n"
     ]
    }
   ],
   "source": [
    "# to train\n",
    "! python -m spacy train config.cfg --output ./output --paths.train ./train --paths.dev ./train --gpu-id 0"
   ]
  }
 ],
 "metadata": {
  "kernelspec": {
   "display_name": "venv",
   "language": "python",
   "name": "python3"
  },
  "language_info": {
   "codemirror_mode": {
    "name": "ipython",
    "version": 3
   },
   "file_extension": ".py",
   "mimetype": "text/x-python",
   "name": "python",
   "nbconvert_exporter": "python",
   "pygments_lexer": "ipython3",
   "version": "3.10.15"
  },
  "orig_nbformat": 4
 },
 "nbformat": 4,
 "nbformat_minor": 2
}
