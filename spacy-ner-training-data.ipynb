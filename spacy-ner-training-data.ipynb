{
 "cells": [
  {
   "cell_type": "code",
   "execution_count": 2,
   "metadata": {},
   "outputs": [
    {
     "data": {
      "text/plain": [
       "'c:\\\\Users\\\\izard\\\\Documents\\\\GitHub\\\\spacy-ner-finetuned-english'"
      ]
     },
     "execution_count": 2,
     "metadata": {},
     "output_type": "execute_result"
    }
   ],
   "source": [
    "import spacy\n",
    "from spacy import displacy\n",
    "import spacy_annotator as spa\n",
    "import pandas as pd\n",
    "import numpy as np\n",
    "import os\n",
    "\n",
    "os.getcwd()"
   ]
  },
  {
   "cell_type": "code",
   "execution_count": 2,
   "metadata": {},
   "outputs": [
    {
     "name": "stdout",
     "output_type": "stream",
     "text": [
      "Collecting spacy_annotator\n",
      "  Using cached spacy_annotator-2.1.3-py3-none-any.whl (6.0 kB)\n",
      "Requirement already satisfied: ipywidgets>=7.5.1 in c:\\users\\izard\\anaconda3\\envs\\pytorch\\lib\\site-packages (from spacy_annotator) (7.6.5)\n",
      "Requirement already satisfied: ipython in c:\\users\\izard\\anaconda3\\envs\\pytorch\\lib\\site-packages (from spacy_annotator) (7.31.1)\n",
      "Requirement already satisfied: spacy in c:\\users\\izard\\anaconda3\\envs\\pytorch\\lib\\site-packages (from spacy_annotator) (3.5.2)\n",
      "Requirement already satisfied: pandas in c:\\users\\izard\\anaconda3\\envs\\pytorch\\lib\\site-packages (from spacy_annotator) (1.3.5)\n",
      "Requirement already satisfied: jupyterlab-widgets>=1.0.0 in c:\\users\\izard\\anaconda3\\envs\\pytorch\\lib\\site-packages (from ipywidgets>=7.5.1->spacy_annotator) (1.0.0)\n",
      "Requirement already satisfied: ipython-genutils~=0.2.0 in c:\\users\\izard\\anaconda3\\envs\\pytorch\\lib\\site-packages (from ipywidgets>=7.5.1->spacy_annotator) (0.2.0)\n",
      "Requirement already satisfied: ipykernel>=4.5.1 in c:\\users\\izard\\appdata\\roaming\\python\\python37\\site-packages (from ipywidgets>=7.5.1->spacy_annotator) (6.16.2)\n",
      "Requirement already satisfied: traitlets>=4.3.1 in c:\\users\\izard\\anaconda3\\envs\\pytorch\\lib\\site-packages (from ipywidgets>=7.5.1->spacy_annotator) (5.7.1)\n",
      "Requirement already satisfied: nbformat>=4.2.0 in c:\\users\\izard\\anaconda3\\envs\\pytorch\\lib\\site-packages (from ipywidgets>=7.5.1->spacy_annotator) (5.7.0)\n",
      "Requirement already satisfied: widgetsnbextension~=3.5.0 in c:\\users\\izard\\anaconda3\\envs\\pytorch\\lib\\site-packages (from ipywidgets>=7.5.1->spacy_annotator) (3.5.2)\n",
      "Requirement already satisfied: matplotlib-inline in c:\\users\\izard\\anaconda3\\envs\\pytorch\\lib\\site-packages (from ipython->spacy_annotator) (0.1.6)\n",
      "Requirement already satisfied: pygments in c:\\users\\izard\\anaconda3\\envs\\pytorch\\lib\\site-packages (from ipython->spacy_annotator) (2.11.2)\n",
      "Requirement already satisfied: setuptools>=18.5 in c:\\users\\izard\\anaconda3\\envs\\pytorch\\lib\\site-packages (from ipython->spacy_annotator) (65.6.3)\n",
      "Requirement already satisfied: prompt-toolkit!=3.0.0,!=3.0.1,<3.1.0,>=2.0.0 in c:\\users\\izard\\anaconda3\\envs\\pytorch\\lib\\site-packages (from ipython->spacy_annotator) (3.0.36)\n",
      "Requirement already satisfied: colorama in c:\\users\\izard\\anaconda3\\envs\\pytorch\\lib\\site-packages (from ipython->spacy_annotator) (0.4.6)\n",
      "Requirement already satisfied: backcall in c:\\users\\izard\\anaconda3\\envs\\pytorch\\lib\\site-packages (from ipython->spacy_annotator) (0.2.0)\n",
      "Requirement already satisfied: decorator in c:\\users\\izard\\anaconda3\\envs\\pytorch\\lib\\site-packages (from ipython->spacy_annotator) (5.1.1)\n",
      "Requirement already satisfied: jedi>=0.16 in c:\\users\\izard\\anaconda3\\envs\\pytorch\\lib\\site-packages (from ipython->spacy_annotator) (0.18.1)\n",
      "Requirement already satisfied: pickleshare in c:\\users\\izard\\anaconda3\\envs\\pytorch\\lib\\site-packages (from ipython->spacy_annotator) (0.7.5)\n",
      "Requirement already satisfied: python-dateutil>=2.7.3 in c:\\users\\izard\\anaconda3\\envs\\pytorch\\lib\\site-packages (from pandas->spacy_annotator) (2.8.2)\n",
      "Requirement already satisfied: pytz>=2017.3 in c:\\users\\izard\\anaconda3\\envs\\pytorch\\lib\\site-packages (from pandas->spacy_annotator) (2022.7)\n",
      "Requirement already satisfied: numpy>=1.17.3 in c:\\users\\izard\\anaconda3\\envs\\pytorch\\lib\\site-packages (from pandas->spacy_annotator) (1.21.5)\n",
      "Requirement already satisfied: murmurhash<1.1.0,>=0.28.0 in c:\\users\\izard\\anaconda3\\envs\\pytorch\\lib\\site-packages (from spacy->spacy_annotator) (1.0.9)\n",
      "Requirement already satisfied: spacy-legacy<3.1.0,>=3.0.11 in c:\\users\\izard\\anaconda3\\envs\\pytorch\\lib\\site-packages (from spacy->spacy_annotator) (3.0.12)\n",
      "Requirement already satisfied: cymem<2.1.0,>=2.0.2 in c:\\users\\izard\\anaconda3\\envs\\pytorch\\lib\\site-packages (from spacy->spacy_annotator) (2.0.7)\n",
      "Requirement already satisfied: langcodes<4.0.0,>=3.2.0 in c:\\users\\izard\\anaconda3\\envs\\pytorch\\lib\\site-packages (from spacy->spacy_annotator) (3.3.0)\n",
      "Requirement already satisfied: smart-open<7.0.0,>=5.2.1 in c:\\users\\izard\\anaconda3\\envs\\pytorch\\lib\\site-packages (from spacy->spacy_annotator) (6.3.0)\n",
      "Requirement already satisfied: tqdm<5.0.0,>=4.38.0 in c:\\users\\izard\\anaconda3\\envs\\pytorch\\lib\\site-packages (from spacy->spacy_annotator) (4.65.0)\n",
      "Requirement already satisfied: jinja2 in c:\\users\\izard\\anaconda3\\envs\\pytorch\\lib\\site-packages (from spacy->spacy_annotator) (3.1.2)\n",
      "Requirement already satisfied: requests<3.0.0,>=2.13.0 in c:\\users\\izard\\anaconda3\\envs\\pytorch\\lib\\site-packages (from spacy->spacy_annotator) (2.28.1)\n",
      "Requirement already satisfied: pydantic!=1.8,!=1.8.1,<1.11.0,>=1.7.4 in c:\\users\\izard\\anaconda3\\envs\\pytorch\\lib\\site-packages (from spacy->spacy_annotator) (1.10.7)\n",
      "Requirement already satisfied: thinc<8.2.0,>=8.1.8 in c:\\users\\izard\\anaconda3\\envs\\pytorch\\lib\\site-packages (from spacy->spacy_annotator) (8.1.10)\n",
      "Requirement already satisfied: srsly<3.0.0,>=2.4.3 in c:\\users\\izard\\anaconda3\\envs\\pytorch\\lib\\site-packages (from spacy->spacy_annotator) (2.4.6)\n",
      "Requirement already satisfied: typer<0.8.0,>=0.3.0 in c:\\users\\izard\\anaconda3\\envs\\pytorch\\lib\\site-packages (from spacy->spacy_annotator) (0.7.0)\n",
      "Requirement already satisfied: pathy>=0.10.0 in c:\\users\\izard\\anaconda3\\envs\\pytorch\\lib\\site-packages (from spacy->spacy_annotator) (0.10.1)\n",
      "Requirement already satisfied: catalogue<2.1.0,>=2.0.6 in c:\\users\\izard\\anaconda3\\envs\\pytorch\\lib\\site-packages (from spacy->spacy_annotator) (2.0.8)\n",
      "Requirement already satisfied: packaging>=20.0 in c:\\users\\izard\\appdata\\roaming\\python\\python37\\site-packages (from spacy->spacy_annotator) (23.1)\n",
      "Requirement already satisfied: spacy-loggers<2.0.0,>=1.0.0 in c:\\users\\izard\\anaconda3\\envs\\pytorch\\lib\\site-packages (from spacy->spacy_annotator) (1.0.4)\n",
      "Requirement already satisfied: wasabi<1.2.0,>=0.9.1 in c:\\users\\izard\\anaconda3\\envs\\pytorch\\lib\\site-packages (from spacy->spacy_annotator) (1.1.1)\n",
      "Requirement already satisfied: preshed<3.1.0,>=3.0.2 in c:\\users\\izard\\anaconda3\\envs\\pytorch\\lib\\site-packages (from spacy->spacy_annotator) (3.0.8)\n",
      "Collecting typing-extensions<4.5.0,>=3.7.4.1\n",
      "  Using cached typing_extensions-4.4.0-py3-none-any.whl (26 kB)\n",
      "Requirement already satisfied: zipp>=0.5 in c:\\users\\izard\\anaconda3\\envs\\pytorch\\lib\\site-packages (from catalogue<2.1.0,>=2.0.6->spacy->spacy_annotator) (3.11.0)\n",
      "Requirement already satisfied: psutil in c:\\users\\izard\\appdata\\roaming\\python\\python37\\site-packages (from ipykernel>=4.5.1->ipywidgets>=7.5.1->spacy_annotator) (5.9.5)\n",
      "Requirement already satisfied: debugpy>=1.0 in c:\\users\\izard\\appdata\\roaming\\python\\python37\\site-packages (from ipykernel>=4.5.1->ipywidgets>=7.5.1->spacy_annotator) (1.6.7)\n",
      "Requirement already satisfied: jupyter-client>=6.1.12 in c:\\users\\izard\\appdata\\roaming\\python\\python37\\site-packages (from ipykernel>=4.5.1->ipywidgets>=7.5.1->spacy_annotator) (7.4.9)\n",
      "Requirement already satisfied: pyzmq>=17 in c:\\users\\izard\\appdata\\roaming\\python\\python37\\site-packages (from ipykernel>=4.5.1->ipywidgets>=7.5.1->spacy_annotator) (25.0.2)\n",
      "Requirement already satisfied: tornado>=6.1 in c:\\users\\izard\\appdata\\roaming\\python\\python37\\site-packages (from ipykernel>=4.5.1->ipywidgets>=7.5.1->spacy_annotator) (6.2)\n",
      "Requirement already satisfied: nest-asyncio in c:\\users\\izard\\appdata\\roaming\\python\\python37\\site-packages (from ipykernel>=4.5.1->ipywidgets>=7.5.1->spacy_annotator) (1.5.6)\n",
      "Requirement already satisfied: parso<0.9.0,>=0.8.0 in c:\\users\\izard\\anaconda3\\envs\\pytorch\\lib\\site-packages (from jedi>=0.16->ipython->spacy_annotator) (0.8.3)\n",
      "Requirement already satisfied: fastjsonschema in c:\\users\\izard\\anaconda3\\envs\\pytorch\\lib\\site-packages (from nbformat>=4.2.0->ipywidgets>=7.5.1->spacy_annotator) (2.16.2)\n",
      "Requirement already satisfied: jupyter-core in c:\\users\\izard\\appdata\\roaming\\python\\python37\\site-packages (from nbformat>=4.2.0->ipywidgets>=7.5.1->spacy_annotator) (4.12.0)\n",
      "Requirement already satisfied: importlib-metadata>=3.6 in c:\\users\\izard\\anaconda3\\envs\\pytorch\\lib\\site-packages (from nbformat>=4.2.0->ipywidgets>=7.5.1->spacy_annotator) (6.7.0)\n",
      "Requirement already satisfied: jsonschema>=2.6 in c:\\users\\izard\\anaconda3\\envs\\pytorch\\lib\\site-packages (from nbformat>=4.2.0->ipywidgets>=7.5.1->spacy_annotator) (4.17.3)\n",
      "Requirement already satisfied: wcwidth in c:\\users\\izard\\anaconda3\\envs\\pytorch\\lib\\site-packages (from prompt-toolkit!=3.0.0,!=3.0.1,<3.1.0,>=2.0.0->ipython->spacy_annotator) (0.2.5)\n",
      "Requirement already satisfied: six>=1.5 in c:\\users\\izard\\anaconda3\\envs\\pytorch\\lib\\site-packages (from python-dateutil>=2.7.3->pandas->spacy_annotator) (1.16.0)\n",
      "Requirement already satisfied: idna<4,>=2.5 in c:\\users\\izard\\anaconda3\\envs\\pytorch\\lib\\site-packages (from requests<3.0.0,>=2.13.0->spacy->spacy_annotator) (3.4)\n",
      "Requirement already satisfied: urllib3<1.27,>=1.21.1 in c:\\users\\izard\\anaconda3\\envs\\pytorch\\lib\\site-packages (from requests<3.0.0,>=2.13.0->spacy->spacy_annotator) (1.26.14)\n",
      "Requirement already satisfied: certifi>=2017.4.17 in c:\\users\\izard\\anaconda3\\envs\\pytorch\\lib\\site-packages (from requests<3.0.0,>=2.13.0->spacy->spacy_annotator) (2023.7.22)\n",
      "Requirement already satisfied: charset-normalizer<3,>=2 in c:\\users\\izard\\anaconda3\\envs\\pytorch\\lib\\site-packages (from requests<3.0.0,>=2.13.0->spacy->spacy_annotator) (2.0.4)\n",
      "Requirement already satisfied: blis<0.8.0,>=0.7.8 in c:\\users\\izard\\anaconda3\\envs\\pytorch\\lib\\site-packages (from thinc<8.2.0,>=8.1.8->spacy->spacy_annotator) (0.7.9)\n",
      "Requirement already satisfied: confection<1.0.0,>=0.0.1 in c:\\users\\izard\\anaconda3\\envs\\pytorch\\lib\\site-packages (from thinc<8.2.0,>=8.1.8->spacy->spacy_annotator) (0.0.4)\n",
      "Requirement already satisfied: click<9.0.0,>=7.1.1 in c:\\users\\izard\\anaconda3\\envs\\pytorch\\lib\\site-packages (from typer<0.8.0,>=0.3.0->spacy->spacy_annotator) (8.1.3)\n",
      "Requirement already satisfied: notebook>=4.4.1 in c:\\users\\izard\\anaconda3\\envs\\pytorch\\lib\\site-packages (from widgetsnbextension~=3.5.0->ipywidgets>=7.5.1->spacy_annotator) (6.5.2)\n",
      "Requirement already satisfied: MarkupSafe>=2.0 in c:\\users\\izard\\anaconda3\\envs\\pytorch\\lib\\site-packages (from jinja2->spacy->spacy_annotator) (2.1.1)\n",
      "Requirement already satisfied: importlib-resources>=1.4.0 in c:\\users\\izard\\anaconda3\\envs\\pytorch\\lib\\site-packages (from jsonschema>=2.6->nbformat>=4.2.0->ipywidgets>=7.5.1->spacy_annotator) (5.2.0)\n",
      "Requirement already satisfied: attrs>=17.4.0 in c:\\users\\izard\\anaconda3\\envs\\pytorch\\lib\\site-packages (from jsonschema>=2.6->nbformat>=4.2.0->ipywidgets>=7.5.1->spacy_annotator) (22.1.0)\n",
      "Requirement already satisfied: pkgutil-resolve-name>=1.3.10 in c:\\users\\izard\\anaconda3\\envs\\pytorch\\lib\\site-packages (from jsonschema>=2.6->nbformat>=4.2.0->ipywidgets>=7.5.1->spacy_annotator) (1.3.10)\n",
      "Requirement already satisfied: pyrsistent!=0.17.0,!=0.17.1,!=0.17.2,>=0.14.0 in c:\\users\\izard\\anaconda3\\envs\\pytorch\\lib\\site-packages (from jsonschema>=2.6->nbformat>=4.2.0->ipywidgets>=7.5.1->spacy_annotator) (0.18.0)\n",
      "Requirement already satisfied: entrypoints in c:\\users\\izard\\appdata\\roaming\\python\\python37\\site-packages (from jupyter-client>=6.1.12->ipykernel>=4.5.1->ipywidgets>=7.5.1->spacy_annotator) (0.4)\n",
      "Requirement already satisfied: pywin32>=1.0 in c:\\users\\izard\\appdata\\roaming\\python\\python37\\site-packages (from jupyter-core->nbformat>=4.2.0->ipywidgets>=7.5.1->spacy_annotator) (306)\n",
      "Requirement already satisfied: terminado>=0.8.3 in c:\\users\\izard\\anaconda3\\envs\\pytorch\\lib\\site-packages (from notebook>=4.4.1->widgetsnbextension~=3.5.0->ipywidgets>=7.5.1->spacy_annotator) (0.17.1)\n",
      "Requirement already satisfied: argon2-cffi in c:\\users\\izard\\anaconda3\\envs\\pytorch\\lib\\site-packages (from notebook>=4.4.1->widgetsnbextension~=3.5.0->ipywidgets>=7.5.1->spacy_annotator) (20.1.0)\n",
      "Requirement already satisfied: prometheus-client in c:\\users\\izard\\anaconda3\\envs\\pytorch\\lib\\site-packages (from notebook>=4.4.1->widgetsnbextension~=3.5.0->ipywidgets>=7.5.1->spacy_annotator) (0.14.1)\n",
      "Requirement already satisfied: nbconvert>=5 in c:\\users\\izard\\anaconda3\\envs\\pytorch\\lib\\site-packages (from notebook>=4.4.1->widgetsnbextension~=3.5.0->ipywidgets>=7.5.1->spacy_annotator) (6.4.4)\n",
      "Requirement already satisfied: Send2Trash>=1.8.0 in c:\\users\\izard\\anaconda3\\envs\\pytorch\\lib\\site-packages (from notebook>=4.4.1->widgetsnbextension~=3.5.0->ipywidgets>=7.5.1->spacy_annotator) (1.8.0)\n",
      "Requirement already satisfied: nbclassic>=0.4.7 in c:\\users\\izard\\anaconda3\\envs\\pytorch\\lib\\site-packages (from notebook>=4.4.1->widgetsnbextension~=3.5.0->ipywidgets>=7.5.1->spacy_annotator) (0.5.2)\n",
      "Requirement already satisfied: jupyter-server>=1.8 in c:\\users\\izard\\anaconda3\\envs\\pytorch\\lib\\site-packages (from nbclassic>=0.4.7->notebook>=4.4.1->widgetsnbextension~=3.5.0->ipywidgets>=7.5.1->spacy_annotator) (1.23.4)\n",
      "Requirement already satisfied: notebook-shim>=0.1.0 in c:\\users\\izard\\anaconda3\\envs\\pytorch\\lib\\site-packages (from nbclassic>=0.4.7->notebook>=4.4.1->widgetsnbextension~=3.5.0->ipywidgets>=7.5.1->spacy_annotator) (0.2.2)\n",
      "Requirement already satisfied: testpath in c:\\users\\izard\\anaconda3\\envs\\pytorch\\lib\\site-packages (from nbconvert>=5->notebook>=4.4.1->widgetsnbextension~=3.5.0->ipywidgets>=7.5.1->spacy_annotator) (0.6.0)\n",
      "Requirement already satisfied: pandocfilters>=1.4.1 in c:\\users\\izard\\anaconda3\\envs\\pytorch\\lib\\site-packages (from nbconvert>=5->notebook>=4.4.1->widgetsnbextension~=3.5.0->ipywidgets>=7.5.1->spacy_annotator) (1.5.0)\n",
      "Requirement already satisfied: mistune<2,>=0.8.1 in c:\\users\\izard\\anaconda3\\envs\\pytorch\\lib\\site-packages (from nbconvert>=5->notebook>=4.4.1->widgetsnbextension~=3.5.0->ipywidgets>=7.5.1->spacy_annotator) (0.8.4)\n",
      "Requirement already satisfied: beautifulsoup4 in c:\\users\\izard\\anaconda3\\envs\\pytorch\\lib\\site-packages (from nbconvert>=5->notebook>=4.4.1->widgetsnbextension~=3.5.0->ipywidgets>=7.5.1->spacy_annotator) (4.11.1)\n",
      "Requirement already satisfied: nbclient<0.6.0,>=0.5.0 in c:\\users\\izard\\anaconda3\\envs\\pytorch\\lib\\site-packages (from nbconvert>=5->notebook>=4.4.1->widgetsnbextension~=3.5.0->ipywidgets>=7.5.1->spacy_annotator) (0.5.13)\n",
      "Requirement already satisfied: bleach in c:\\users\\izard\\anaconda3\\envs\\pytorch\\lib\\site-packages (from nbconvert>=5->notebook>=4.4.1->widgetsnbextension~=3.5.0->ipywidgets>=7.5.1->spacy_annotator) (4.1.0)\n",
      "Requirement already satisfied: defusedxml in c:\\users\\izard\\anaconda3\\envs\\pytorch\\lib\\site-packages (from nbconvert>=5->notebook>=4.4.1->widgetsnbextension~=3.5.0->ipywidgets>=7.5.1->spacy_annotator) (0.7.1)\n",
      "Requirement already satisfied: jupyterlab-pygments in c:\\users\\izard\\anaconda3\\envs\\pytorch\\lib\\site-packages (from nbconvert>=5->notebook>=4.4.1->widgetsnbextension~=3.5.0->ipywidgets>=7.5.1->spacy_annotator) (0.1.2)\n",
      "Requirement already satisfied: pywinpty>=1.1.0 in c:\\users\\izard\\anaconda3\\envs\\pytorch\\lib\\site-packages (from terminado>=0.8.3->notebook>=4.4.1->widgetsnbextension~=3.5.0->ipywidgets>=7.5.1->spacy_annotator) (2.0.10)\n",
      "Requirement already satisfied: cffi>=1.0.0 in c:\\users\\izard\\anaconda3\\envs\\pytorch\\lib\\site-packages (from argon2-cffi->notebook>=4.4.1->widgetsnbextension~=3.5.0->ipywidgets>=7.5.1->spacy_annotator) (1.15.1)\n",
      "Requirement already satisfied: pycparser in c:\\users\\izard\\anaconda3\\envs\\pytorch\\lib\\site-packages (from cffi>=1.0.0->argon2-cffi->notebook>=4.4.1->widgetsnbextension~=3.5.0->ipywidgets>=7.5.1->spacy_annotator) (2.21)\n",
      "Requirement already satisfied: anyio<4,>=3.1.0 in c:\\users\\izard\\anaconda3\\envs\\pytorch\\lib\\site-packages (from jupyter-server>=1.8->nbclassic>=0.4.7->notebook>=4.4.1->widgetsnbextension~=3.5.0->ipywidgets>=7.5.1->spacy_annotator) (3.5.0)\n",
      "Requirement already satisfied: websocket-client in c:\\users\\izard\\anaconda3\\envs\\pytorch\\lib\\site-packages (from jupyter-server>=1.8->nbclassic>=0.4.7->notebook>=4.4.1->widgetsnbextension~=3.5.0->ipywidgets>=7.5.1->spacy_annotator) (0.58.0)\n",
      "Requirement already satisfied: soupsieve>1.2 in c:\\users\\izard\\anaconda3\\envs\\pytorch\\lib\\site-packages (from beautifulsoup4->nbconvert>=5->notebook>=4.4.1->widgetsnbextension~=3.5.0->ipywidgets>=7.5.1->spacy_annotator) (2.3.2.post1)\n",
      "Requirement already satisfied: webencodings in c:\\users\\izard\\anaconda3\\envs\\pytorch\\lib\\site-packages (from bleach->nbconvert>=5->notebook>=4.4.1->widgetsnbextension~=3.5.0->ipywidgets>=7.5.1->spacy_annotator) (0.5.1)\n",
      "Requirement already satisfied: sniffio>=1.1 in c:\\users\\izard\\anaconda3\\envs\\pytorch\\lib\\site-packages (from anyio<4,>=3.1.0->jupyter-server>=1.8->nbclassic>=0.4.7->notebook>=4.4.1->widgetsnbextension~=3.5.0->ipywidgets>=7.5.1->spacy_annotator) (1.2.0)\n",
      "Installing collected packages: typing-extensions, spacy_annotator\n",
      "  Attempting uninstall: typing-extensions\n",
      "    Found existing installation: typing_extensions 4.7.1\n",
      "    Uninstalling typing_extensions-4.7.1:\n",
      "      Successfully uninstalled typing_extensions-4.7.1\n",
      "Successfully installed spacy_annotator-2.1.3 typing-extensions-4.4.0\n"
     ]
    },
    {
     "name": "stderr",
     "output_type": "stream",
     "text": [
      "ERROR: pip's dependency resolver does not currently take into account all the packages that are installed. This behaviour is the source of the following dependency conflicts.\n",
      "platformdirs 3.11.0 requires typing-extensions>=4.7.1; python_version < \"3.8\", but you have typing-extensions 4.4.0 which is incompatible.\n",
      "flake8 5.0.4 requires importlib-metadata<4.3,>=1.1.0; python_version < \"3.8\", but you have importlib-metadata 6.7.0 which is incompatible.\n",
      "fake-useragent 1.2.1 requires importlib-metadata~=4.0; python_version < \"3.8\", but you have importlib-metadata 6.7.0 which is incompatible.\n"
     ]
    }
   ],
   "source": [
    "! pip install spacy_annotator"
   ]
  },
  {
   "cell_type": "code",
   "execution_count": 3,
   "metadata": {},
   "outputs": [
    {
     "name": "stderr",
     "output_type": "stream",
     "text": [
      "c:\\Users\\izard\\miniconda3\\envs\\venv\\lib\\site-packages\\spacy\\util.py:910: UserWarning: [W095] Model 'en_pipeline' (0.0.0) was trained with spaCy v3.5.2 and may not be 100% compatible with the current version (3.8.2). If you see errors or degraded performance, download a newer compatible model or retrain your custom model with the current spaCy version. For more details and available updates, run: python -m spacy validate\n",
      "  warnings.warn(warn_msg)\n"
     ]
    }
   ],
   "source": [
    "#nlp = spacy.blank(\"en\") # load a new spacy model for first time \n",
    "nlp = spacy.load(\"output/model-best\") # load custom model after first time train"
   ]
  },
  {
   "cell_type": "code",
   "execution_count": 4,
   "metadata": {},
   "outputs": [
    {
     "data": {
      "text/html": [
       "<div>\n",
       "<style scoped>\n",
       "    .dataframe tbody tr th:only-of-type {\n",
       "        vertical-align: middle;\n",
       "    }\n",
       "\n",
       "    .dataframe tbody tr th {\n",
       "        vertical-align: top;\n",
       "    }\n",
       "\n",
       "    .dataframe thead th {\n",
       "        text-align: right;\n",
       "    }\n",
       "</style>\n",
       "<table border=\"1\" class=\"dataframe\">\n",
       "  <thead>\n",
       "    <tr style=\"text-align: right;\">\n",
       "      <th></th>\n",
       "      <th>text</th>\n",
       "    </tr>\n",
       "  </thead>\n",
       "  <tbody>\n",
       "    <tr>\n",
       "      <th>0</th>\n",
       "      <td>S P Setia is expanding its footprint in Austra...</td>\n",
       "    </tr>\n",
       "    <tr>\n",
       "      <th>1</th>\n",
       "      <td>Domestic flights were cancelled and almost 3,0...</td>\n",
       "    </tr>\n",
       "    <tr>\n",
       "      <th>2</th>\n",
       "      <td>RAM Ratings has placed KLK and Batu Kawan on a...</td>\n",
       "    </tr>\n",
       "    <tr>\n",
       "      <th>3</th>\n",
       "      <td>+4.8%), reaching RM587.5b contribution to tota...</td>\n",
       "    </tr>\n",
       "    <tr>\n",
       "      <th>4</th>\n",
       "      <td>Prime Minister Datuk Seri Anwar Ibrahim will l...</td>\n",
       "    </tr>\n",
       "    <tr>\n",
       "      <th>5</th>\n",
       "      <td>Hong Leong Financial Group’s FY23 Core net pro...</td>\n",
       "    </tr>\n",
       "    <tr>\n",
       "      <th>6</th>\n",
       "      <td>Bank Negara Malaysia had on 18 May 2023, impos...</td>\n",
       "    </tr>\n",
       "    <tr>\n",
       "      <th>7</th>\n",
       "      <td>Bank Negara Malaysia had, on 29 December 2022,...</td>\n",
       "    </tr>\n",
       "    <tr>\n",
       "      <th>8</th>\n",
       "      <td>Indonesia’s Nusantara Capital City Authority i...</td>\n",
       "    </tr>\n",
       "    <tr>\n",
       "      <th>9</th>\n",
       "      <td>ASEANmember countries need to collaborate to m...</td>\n",
       "    </tr>\n",
       "  </tbody>\n",
       "</table>\n",
       "</div>"
      ],
      "text/plain": [
       "                                                text\n",
       "0  S P Setia is expanding its footprint in Austra...\n",
       "1  Domestic flights were cancelled and almost 3,0...\n",
       "2  RAM Ratings has placed KLK and Batu Kawan on a...\n",
       "3  +4.8%), reaching RM587.5b contribution to tota...\n",
       "4  Prime Minister Datuk Seri Anwar Ibrahim will l...\n",
       "5  Hong Leong Financial Group’s FY23 Core net pro...\n",
       "6  Bank Negara Malaysia had on 18 May 2023, impos...\n",
       "7  Bank Negara Malaysia had, on 29 December 2022,...\n",
       "8  Indonesia’s Nusantara Capital City Authority i...\n",
       "9  ASEANmember countries need to collaborate to m..."
      ]
     },
     "execution_count": 4,
     "metadata": {},
     "output_type": "execute_result"
    }
   ],
   "source": [
    "# prepare train data\n",
    "import spacy_annotator as spa\n",
    "\n",
    "train_data=pd.DataFrame({\n",
    "    \"text\":pd.read_parquet('./sample.parquet').loc[91:100]['Content'].tolist()})\n",
    "\n",
    "train_data=train_data[~((train_data['text'].str.contains('[\\u4e00-\\u9fff]+'))|(train_data['text'].isnull()))].reset_index(drop=True)\n",
    "train_data['text']=train_data['text'].str.replace(r'(.+\\d\\)\\:)|(.+[A-Z]\\):)|(.+[A-Z]:)','',regex=True).str.strip()\n",
    "train_data"
   ]
  },
  {
   "attachments": {},
   "cell_type": "markdown",
   "metadata": {},
   "source": [
    "### Reference for Text Annotation\n",
    "\n",
    "> - <sup>PERSON:      People, including fictional.</sup>\n",
    "> - <sup>NORP:        Nationalities or religious or political groups.</sup>\n",
    "> - <sup>FAC:         Buildings, airports, highways, bridges, etc.</sup>\n",
    "> - <sup>ORG:         Companies, agencies, institutions, etc.</sup>\n",
    "> - <sup>GPE:         Countries, cities, states.</sup>\n",
    "> - <sup>LOC:         Non-GPE locations, mountain ranges, bodies of water.</sup>\n",
    "> - <sup>PRODUCT:     Objects, vehicles, foods, etc. (Not services.)</sup>\n",
    "> - <sup>EVENT:       Named hurricanes, battles, wars, sports events, etc.</sup>\n",
    "> - <sup>WORK_OF_ART: Titles of books, songs, etc.</sup>\n",
    "> - <sup>LAW:         Named documents made into laws.</sup>\n",
    "> - <sup>LANGUAGE:    Any named language.</sup>\n",
    "> - <sup>DATE:        Absolute or relative dates or periods.</sup>\n",
    "> - <sup>TIME:        Times smaller than a day.</sup>\n",
    "> - <sup>PERCENT:     Percentage, including ”%“.</sup>\n",
    "> - <sup>MONEY:       Monetary values, including unit.</sup>\n",
    "> - <sup>QUANTITY:    Measurements, as of weight or distance.</sup>\n",
    "> - <sup>ORDINAL:     “first”, “second”, etc.</sup>\n",
    "> - <sup>CARDINAL:    Numerals that do not fall under another type.</sup>"
   ]
  },
  {
   "cell_type": "code",
   "execution_count": 6,
   "metadata": {},
   "outputs": [],
   "source": [
    "annotator=spa.Annotator(labels=[\"GPE\",\"PERSON\",\"ORG\",\"FAC\",\"MONEY\",\"NORP\",\"LOC\",\"PRODUCT\",\"EVENT\",\"PERCENT\",\"WORK_OF_ART\",\"TIME\",\"ORDINAL\",\"CARDINAL\",\"QUANTITY\",\"LAW\"],model=nlp) #annotate train data"
   ]
  },
  {
   "cell_type": "code",
   "execution_count": 7,
   "metadata": {},
   "outputs": [
    {
     "data": {
      "application/vnd.jupyter.widget-view+json": {
       "model_id": "181d69872c754848ac5df0d15249784c",
       "version_major": 2,
       "version_minor": 0
      },
      "text/plain": [
       "HTML(value='-1 examples annotated, 11 examples left')"
      ]
     },
     "metadata": {},
     "output_type": "display_data"
    },
    {
     "data": {
      "application/vnd.jupyter.widget-view+json": {
       "model_id": "aba94556efcd42ac9e1a6e5b0e63d324",
       "version_major": 2,
       "version_minor": 0
      },
      "text/plain": [
       "Text(value='', description='GPE', layout=Layout(width='auto'), placeholder='ent one, ent two, ent three')"
      ]
     },
     "metadata": {},
     "output_type": "display_data"
    },
    {
     "data": {
      "application/vnd.jupyter.widget-view+json": {
       "model_id": "0714a48f1330481a8d6792a97c38dced",
       "version_major": 2,
       "version_minor": 0
      },
      "text/plain": [
       "Text(value='', description='PERSON', layout=Layout(width='auto'), placeholder='ent one, ent two, ent three')"
      ]
     },
     "metadata": {},
     "output_type": "display_data"
    },
    {
     "data": {
      "application/vnd.jupyter.widget-view+json": {
       "model_id": "9d8e394098b14da39b38441e20c4a68e",
       "version_major": 2,
       "version_minor": 0
      },
      "text/plain": [
       "Text(value='', description='ORG', layout=Layout(width='auto'), placeholder='ent one, ent two, ent three')"
      ]
     },
     "metadata": {},
     "output_type": "display_data"
    },
    {
     "data": {
      "application/vnd.jupyter.widget-view+json": {
       "model_id": "369e36b6835247dcb50a06d6ea633b79",
       "version_major": 2,
       "version_minor": 0
      },
      "text/plain": [
       "Text(value='', description='FAC', layout=Layout(width='auto'), placeholder='ent one, ent two, ent three')"
      ]
     },
     "metadata": {},
     "output_type": "display_data"
    },
    {
     "data": {
      "application/vnd.jupyter.widget-view+json": {
       "model_id": "9bff0e075bb54862ba10223303db21c9",
       "version_major": 2,
       "version_minor": 0
      },
      "text/plain": [
       "Text(value='', description='MONEY', layout=Layout(width='auto'), placeholder='ent one, ent two, ent three')"
      ]
     },
     "metadata": {},
     "output_type": "display_data"
    },
    {
     "data": {
      "application/vnd.jupyter.widget-view+json": {
       "model_id": "8ed6e78259944a708088cfbbda1d8012",
       "version_major": 2,
       "version_minor": 0
      },
      "text/plain": [
       "Text(value='', description='NORP', layout=Layout(width='auto'), placeholder='ent one, ent two, ent three')"
      ]
     },
     "metadata": {},
     "output_type": "display_data"
    },
    {
     "data": {
      "application/vnd.jupyter.widget-view+json": {
       "model_id": "1f90399d832640f6a73fd5a0d4940bf5",
       "version_major": 2,
       "version_minor": 0
      },
      "text/plain": [
       "Text(value='', description='LOC', layout=Layout(width='auto'), placeholder='ent one, ent two, ent three')"
      ]
     },
     "metadata": {},
     "output_type": "display_data"
    },
    {
     "data": {
      "application/vnd.jupyter.widget-view+json": {
       "model_id": "0e5fa2305cbf4d5292c6e217332cac39",
       "version_major": 2,
       "version_minor": 0
      },
      "text/plain": [
       "Text(value='', description='PRODUCT', layout=Layout(width='auto'), placeholder='ent one, ent two, ent three')"
      ]
     },
     "metadata": {},
     "output_type": "display_data"
    },
    {
     "data": {
      "application/vnd.jupyter.widget-view+json": {
       "model_id": "58c15d8664274de4af3aa1715c529fcc",
       "version_major": 2,
       "version_minor": 0
      },
      "text/plain": [
       "Text(value='', description='EVENT', layout=Layout(width='auto'), placeholder='ent one, ent two, ent three')"
      ]
     },
     "metadata": {},
     "output_type": "display_data"
    },
    {
     "data": {
      "application/vnd.jupyter.widget-view+json": {
       "model_id": "a2922269bed747eabffdb43cde773cad",
       "version_major": 2,
       "version_minor": 0
      },
      "text/plain": [
       "Text(value='', description='PERCENT', layout=Layout(width='auto'), placeholder='ent one, ent two, ent three')"
      ]
     },
     "metadata": {},
     "output_type": "display_data"
    },
    {
     "data": {
      "application/vnd.jupyter.widget-view+json": {
       "model_id": "8b84d3dedc8444a7b7ac5d368ff0d799",
       "version_major": 2,
       "version_minor": 0
      },
      "text/plain": [
       "Text(value='', description='WORK_OF_ART', layout=Layout(width='auto'), placeholder='ent one, ent two, ent thre…"
      ]
     },
     "metadata": {},
     "output_type": "display_data"
    },
    {
     "data": {
      "application/vnd.jupyter.widget-view+json": {
       "model_id": "f50541b11c574c8e8b311bab5f130e0b",
       "version_major": 2,
       "version_minor": 0
      },
      "text/plain": [
       "Text(value='', description='TIME', layout=Layout(width='auto'), placeholder='ent one, ent two, ent three')"
      ]
     },
     "metadata": {},
     "output_type": "display_data"
    },
    {
     "data": {
      "application/vnd.jupyter.widget-view+json": {
       "model_id": "c78ca810f0d54374aa0b7da178b4f765",
       "version_major": 2,
       "version_minor": 0
      },
      "text/plain": [
       "Text(value='', description='ORDINAL', layout=Layout(width='auto'), placeholder='ent one, ent two, ent three')"
      ]
     },
     "metadata": {},
     "output_type": "display_data"
    },
    {
     "data": {
      "application/vnd.jupyter.widget-view+json": {
       "model_id": "f960982171a144adbc3981161df1c539",
       "version_major": 2,
       "version_minor": 0
      },
      "text/plain": [
       "Text(value='', description='CARDINAL', layout=Layout(width='auto'), placeholder='ent one, ent two, ent three')"
      ]
     },
     "metadata": {},
     "output_type": "display_data"
    },
    {
     "data": {
      "application/vnd.jupyter.widget-view+json": {
       "model_id": "030c9b0cc20c404582b7eb981880dfca",
       "version_major": 2,
       "version_minor": 0
      },
      "text/plain": [
       "Text(value='', description='QUANTITY', layout=Layout(width='auto'), placeholder='ent one, ent two, ent three')"
      ]
     },
     "metadata": {},
     "output_type": "display_data"
    },
    {
     "data": {
      "application/vnd.jupyter.widget-view+json": {
       "model_id": "2aed76f74d904bec92af485d632306b4",
       "version_major": 2,
       "version_minor": 0
      },
      "text/plain": [
       "Text(value='', description='LAW', layout=Layout(width='auto'), placeholder='ent one, ent two, ent three')"
      ]
     },
     "metadata": {},
     "output_type": "display_data"
    },
    {
     "data": {
      "application/vnd.jupyter.widget-view+json": {
       "model_id": "f1c0fefa464e42c6ba37dce05ffb8ae9",
       "version_major": 2,
       "version_minor": 0
      },
      "text/plain": [
       "HBox(children=(Button(button_style='success', description='submit', style=ButtonStyle()), Button(button_style=…"
      ]
     },
     "metadata": {},
     "output_type": "display_data"
    },
    {
     "data": {
      "application/vnd.jupyter.widget-view+json": {
       "model_id": "74300276a4f04a6496d73118036fe963",
       "version_major": 2,
       "version_minor": 0
      },
      "text/plain": [
       "Output()"
      ]
     },
     "metadata": {},
     "output_type": "display_data"
    }
   ],
   "source": [
    "df_labels=annotator.annotate(df=train_data,col_text=\"text\",shuffle=False)"
   ]
  },
  {
   "cell_type": "code",
   "execution_count": null,
   "metadata": {},
   "outputs": [],
   "source": [
    "spacy_annotations = annotator.to_spacy(df_labels,\"./train/train_1_100.spacy\")"
   ]
  },
  {
   "cell_type": "code",
   "execution_count": 5,
   "metadata": {},
   "outputs": [
    {
     "name": "stdout",
     "output_type": "stream",
     "text": [
      "\u001b[38;5;2m✔ Auto-filled config with all values\u001b[0m\n",
      "\u001b[38;5;2m✔ Saved config\u001b[0m\n",
      "config.cfg\n",
      "You can now add your data and train your pipeline:\n",
      "python -m spacy train config.cfg --paths.train ./train.spacy --paths.dev ./dev.spacy\n"
     ]
    },
    {
     "name": "stderr",
     "output_type": "stream",
     "text": [
      "c:\\Users\\izard\\miniconda3\\envs\\venv\\lib\\site-packages\\transformers\\utils\\generic.py:441: FutureWarning: `torch.utils._pytree._register_pytree_node` is deprecated. Please use `torch.utils._pytree.register_pytree_node` instead.\n",
      "  _torch_pytree._register_pytree_node(\n",
      "c:\\Users\\izard\\miniconda3\\envs\\venv\\lib\\site-packages\\transformers\\utils\\generic.py:309: FutureWarning: `torch.utils._pytree._register_pytree_node` is deprecated. Please use `torch.utils._pytree.register_pytree_node` instead.\n",
      "  _torch_pytree._register_pytree_node(\n"
     ]
    }
   ],
   "source": [
    "# to re-wrote config.cfg file\n",
    "! python -m spacy init fill-config base_config_gpu.cfg config.cfg\n"
   ]
  },
  {
   "cell_type": "code",
   "execution_count": 1,
   "metadata": {},
   "outputs": [
    {
     "name": "stdout",
     "output_type": "stream",
     "text": [
      "\u001b[38;5;4mℹ Saving to output directory: output\u001b[0m\n",
      "\u001b[38;5;4mℹ Using GPU: 0\u001b[0m\n",
      "\u001b[1m\n",
      "=========================== Initializing pipeline ===========================\u001b[0m\n",
      "\u001b[38;5;2m✔ Initialized pipeline\u001b[0m\n",
      "\u001b[1m\n",
      "============================= Training pipeline =============================\u001b[0m\n",
      "\u001b[38;5;4mℹ Pipeline: ['transformer', 'ner']\u001b[0m\n",
      "\u001b[38;5;4mℹ Initial learn rate: 0.0\u001b[0m\n",
      "E    #       LOSS TRANS...  LOSS NER  ENTS_F  ENTS_P  ENTS_R  SCORE \n",
      "---  ------  -------------  --------  ------  ------  ------  ------\n",
      "  0       0         900.59   1836.22    0.00    0.00    0.01    0.00\n",
      "  0     200      249763.63  69446.24   45.53   59.09   37.03    0.46\n",
      "  0     400       47992.26  14496.94   70.86   67.69   74.34    0.71\n",
      "  1     600       20601.92   9073.42   67.50   81.43   57.63    0.67\n",
      "  1     800        6937.75   8577.04   76.42   72.35   80.97    0.76\n",
      "  2    1000        4333.47   7674.95   80.23   75.58   85.50    0.80\n",
      "  2    1200        4707.43   7126.67   80.93   74.97   87.94    0.81\n",
      "  2    1400        3319.39   6469.11   82.31   80.99   83.68    0.82\n",
      "  3    1600        6232.95   6140.88   84.84   83.96   85.73    0.85\n",
      "  3    1800        3524.60   5592.60   85.10   85.40   84.80    0.85\n",
      "  4    2000        2715.34   5851.40   85.18   80.67   90.22    0.85\n",
      "  4    2200       15073.91   5233.53   86.19   80.73   92.44    0.86\n",
      "  4    2400        2327.59   4894.39   87.96   85.77   90.27    0.88\n",
      "  5    2600        2201.66   4562.09   88.92   88.12   89.75    0.89\n",
      "  5    2800       15132.55   4399.93   87.71   88.43   87.02    0.88\n",
      "  6    3000        9879.71   4067.75   89.25   90.43   88.09    0.89\n",
      "  6    3200        4067.53   3726.94   90.61   88.01   93.36    0.91\n",
      "  6    3400        2012.47   3463.66   90.72   89.77   91.70    0.91\n",
      "  7    3600        1729.07   3281.18   92.10   91.60   92.60    0.92\n",
      "  7    3800        1566.76   3119.86   92.24   89.56   95.09    0.92\n",
      "  8    4000        2389.59   2947.65   93.56   92.44   94.70    0.94\n",
      "  8    4200        1269.99   2587.15   93.28   95.63   91.03    0.93\n",
      "  8    4400        1325.46   2423.48   94.66   94.47   94.86    0.95\n",
      "  9    4600        1217.25   2243.46   94.12   91.62   96.76    0.94\n",
      "  9    4800        1185.93   2203.14   93.47   90.10   97.11    0.93\n",
      " 10    5000        2084.80   2097.65   95.61   96.51   94.73    0.96\n",
      " 10    5200         837.10   1684.95   96.02   95.06   97.00    0.96\n",
      " 10    5400         947.18   1738.97   95.54   94.66   96.44    0.96\n",
      " 11    5600         756.08   1444.03   95.91   94.48   97.38    0.96\n",
      " 11    5800         627.70   1385.37   96.10   95.11   97.12    0.96\n",
      " 12    6000         678.66   1463.64   97.00   96.66   97.35    0.97\n",
      " 12    6200         622.37   1242.73   97.01   96.86   97.17    0.97\n",
      " 12    6400         540.01   1065.67   96.87   96.25   97.50    0.97\n",
      " 13    6600         559.56    958.14   97.29   97.52   97.07    0.97\n",
      " 13    6800         626.90   1147.52   97.31   97.14   97.49    0.97\n",
      " 14    7000         553.22    988.78   97.11   96.45   97.78    0.97\n",
      " 14    7200         407.18    789.17   97.17   96.53   97.82    0.97\n",
      " 14    7400         587.45   1022.28   97.44   96.90   97.99    0.97\n",
      " 15    7600         371.08    694.41   97.63   97.34   97.92    0.98\n",
      " 15    7800         372.49    738.94   97.75   97.66   97.84    0.98\n",
      " 16    8000         345.17    641.94   97.78   97.66   97.90    0.98\n",
      " 16    8200         342.60    609.25   97.65   97.40   97.90    0.98\n",
      " 16    8400         385.53    727.39   97.85   97.94   97.75    0.98\n",
      " 17    8600         473.67    525.15   98.09   98.37   97.80    0.98\n",
      " 17    8800         338.38    586.13   98.08   98.12   98.04    0.98\n",
      " 18    9000         292.01    509.80   97.85   97.49   98.21    0.98\n",
      " 18    9200         292.22    483.21   98.17   98.36   97.99    0.98\n",
      " 18    9400         329.25    568.47   98.23   98.29   98.16    0.98\n",
      " 19    9600         290.94    435.33   98.18   98.24   98.12    0.98\n",
      " 19    9800         280.47    464.30   98.14   98.08   98.20    0.98\n",
      " 20   10000         282.95    383.33   97.76   97.21   98.32    0.98\n",
      " 20   10200         239.22    402.06   98.17   98.34   98.00    0.98\n",
      " 21   10400         548.43    451.51   97.91   97.47   98.35    0.98\n",
      " 21   10600         193.57    325.69   98.12   97.88   98.35    0.98\n",
      " 21   10800         216.41    355.18   98.20   98.10   98.30    0.98\n",
      " 22   11000         191.69    296.95   98.33   98.46   98.19    0.98\n",
      " 22   11200         174.52    291.00   98.41   98.62   98.21    0.98\n",
      " 23   11400         184.30    315.68   98.30   98.28   98.31    0.98\n",
      " 23   11600         166.92    264.02   98.14   97.99   98.30    0.98\n",
      " 23   11800         153.57    249.45   98.04   97.69   98.39    0.98\n",
      " 24   12000         178.74    290.56   98.27   98.17   98.37    0.98\n",
      " 24   12200         149.87    228.97   98.24   98.16   98.32    0.98\n",
      " 25   12400         138.81    226.78   98.40   98.76   98.03    0.98\n",
      " 25   12600         177.17    258.07   98.30   98.27   98.33    0.98\n",
      " 25   12800         167.18    241.37   98.31   98.36   98.26    0.98\n",
      "\u001b[38;5;2m✔ Saved pipeline to output directory\u001b[0m\n",
      "output\\model-last\n"
     ]
    },
    {
     "name": "stderr",
     "output_type": "stream",
     "text": [
      "c:\\Users\\izard\\miniconda3\\envs\\venv\\lib\\site-packages\\transformers\\utils\\generic.py:441: FutureWarning: `torch.utils._pytree._register_pytree_node` is deprecated. Please use `torch.utils._pytree.register_pytree_node` instead.\n",
      "  _torch_pytree._register_pytree_node(\n",
      "c:\\Users\\izard\\miniconda3\\envs\\venv\\lib\\site-packages\\transformers\\utils\\generic.py:309: FutureWarning: `torch.utils._pytree._register_pytree_node` is deprecated. Please use `torch.utils._pytree.register_pytree_node` instead.\n",
      "  _torch_pytree._register_pytree_node(\n",
      "c:\\Users\\izard\\miniconda3\\envs\\venv\\lib\\site-packages\\huggingface_hub\\file_download.py:1142: FutureWarning: `resume_download` is deprecated and will be removed in version 1.0.0. Downloads always resume when possible. If you want to force a new download, use `force_download=True`.\n",
      "  warnings.warn(\n",
      "c:\\Users\\izard\\miniconda3\\envs\\venv\\lib\\site-packages\\transformers\\utils\\generic.py:309: FutureWarning: `torch.utils._pytree._register_pytree_node` is deprecated. Please use `torch.utils._pytree.register_pytree_node` instead.\n",
      "  _torch_pytree._register_pytree_node(\n",
      "Some weights of RobertaModel were not initialized from the model checkpoint at roberta-base and are newly initialized: ['roberta.pooler.dense.bias', 'roberta.pooler.dense.weight']\n",
      "You should probably TRAIN this model on a down-stream task to be able to use it for predictions and inference.\n"
     ]
    }
   ],
   "source": [
    "# to train\n",
    "! python -m spacy train config.cfg --output ./output --paths.train ./train --paths.dev ./train --gpu-id 0"
   ]
  }
 ],
 "metadata": {
  "kernelspec": {
   "display_name": "venv",
   "language": "python",
   "name": "python3"
  },
  "language_info": {
   "codemirror_mode": {
    "name": "ipython",
    "version": 3
   },
   "file_extension": ".py",
   "mimetype": "text/x-python",
   "name": "python",
   "nbconvert_exporter": "python",
   "pygments_lexer": "ipython3",
   "version": "3.10.15"
  },
  "orig_nbformat": 4
 },
 "nbformat": 4,
 "nbformat_minor": 2
}
