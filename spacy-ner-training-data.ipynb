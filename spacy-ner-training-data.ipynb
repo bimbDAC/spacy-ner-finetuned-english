{
 "cells": [
  {
   "cell_type": "code",
   "execution_count": 1,
   "metadata": {},
   "outputs": [
    {
     "data": {
      "text/plain": [
       "'c:\\\\Users\\\\izard\\\\Documents\\\\GitHub\\\\spacy-ner-finetuned-english'"
      ]
     },
     "execution_count": 1,
     "metadata": {},
     "output_type": "execute_result"
    }
   ],
   "source": [
    "import spacy\n",
    "from spacy import displacy\n",
    "import spacy_annotator as spa\n",
    "import pandas as pd\n",
    "import numpy as np\n",
    "import os\n",
    "\n",
    "os.getcwd()"
   ]
  },
  {
   "cell_type": "code",
   "execution_count": 2,
   "metadata": {},
   "outputs": [
    {
     "name": "stdout",
     "output_type": "stream",
     "text": [
      "Collecting spacy_annotator\n",
      "  Using cached spacy_annotator-2.1.3-py3-none-any.whl (6.0 kB)\n",
      "Requirement already satisfied: ipywidgets>=7.5.1 in c:\\users\\izard\\anaconda3\\envs\\pytorch\\lib\\site-packages (from spacy_annotator) (7.6.5)\n",
      "Requirement already satisfied: ipython in c:\\users\\izard\\anaconda3\\envs\\pytorch\\lib\\site-packages (from spacy_annotator) (7.31.1)\n",
      "Requirement already satisfied: spacy in c:\\users\\izard\\anaconda3\\envs\\pytorch\\lib\\site-packages (from spacy_annotator) (3.5.2)\n",
      "Requirement already satisfied: pandas in c:\\users\\izard\\anaconda3\\envs\\pytorch\\lib\\site-packages (from spacy_annotator) (1.3.5)\n",
      "Requirement already satisfied: jupyterlab-widgets>=1.0.0 in c:\\users\\izard\\anaconda3\\envs\\pytorch\\lib\\site-packages (from ipywidgets>=7.5.1->spacy_annotator) (1.0.0)\n",
      "Requirement already satisfied: ipython-genutils~=0.2.0 in c:\\users\\izard\\anaconda3\\envs\\pytorch\\lib\\site-packages (from ipywidgets>=7.5.1->spacy_annotator) (0.2.0)\n",
      "Requirement already satisfied: ipykernel>=4.5.1 in c:\\users\\izard\\appdata\\roaming\\python\\python37\\site-packages (from ipywidgets>=7.5.1->spacy_annotator) (6.16.2)\n",
      "Requirement already satisfied: traitlets>=4.3.1 in c:\\users\\izard\\anaconda3\\envs\\pytorch\\lib\\site-packages (from ipywidgets>=7.5.1->spacy_annotator) (5.7.1)\n",
      "Requirement already satisfied: nbformat>=4.2.0 in c:\\users\\izard\\anaconda3\\envs\\pytorch\\lib\\site-packages (from ipywidgets>=7.5.1->spacy_annotator) (5.7.0)\n",
      "Requirement already satisfied: widgetsnbextension~=3.5.0 in c:\\users\\izard\\anaconda3\\envs\\pytorch\\lib\\site-packages (from ipywidgets>=7.5.1->spacy_annotator) (3.5.2)\n",
      "Requirement already satisfied: matplotlib-inline in c:\\users\\izard\\anaconda3\\envs\\pytorch\\lib\\site-packages (from ipython->spacy_annotator) (0.1.6)\n",
      "Requirement already satisfied: pygments in c:\\users\\izard\\anaconda3\\envs\\pytorch\\lib\\site-packages (from ipython->spacy_annotator) (2.11.2)\n",
      "Requirement already satisfied: setuptools>=18.5 in c:\\users\\izard\\anaconda3\\envs\\pytorch\\lib\\site-packages (from ipython->spacy_annotator) (65.6.3)\n",
      "Requirement already satisfied: prompt-toolkit!=3.0.0,!=3.0.1,<3.1.0,>=2.0.0 in c:\\users\\izard\\anaconda3\\envs\\pytorch\\lib\\site-packages (from ipython->spacy_annotator) (3.0.36)\n",
      "Requirement already satisfied: colorama in c:\\users\\izard\\anaconda3\\envs\\pytorch\\lib\\site-packages (from ipython->spacy_annotator) (0.4.6)\n",
      "Requirement already satisfied: backcall in c:\\users\\izard\\anaconda3\\envs\\pytorch\\lib\\site-packages (from ipython->spacy_annotator) (0.2.0)\n",
      "Requirement already satisfied: decorator in c:\\users\\izard\\anaconda3\\envs\\pytorch\\lib\\site-packages (from ipython->spacy_annotator) (5.1.1)\n",
      "Requirement already satisfied: jedi>=0.16 in c:\\users\\izard\\anaconda3\\envs\\pytorch\\lib\\site-packages (from ipython->spacy_annotator) (0.18.1)\n",
      "Requirement already satisfied: pickleshare in c:\\users\\izard\\anaconda3\\envs\\pytorch\\lib\\site-packages (from ipython->spacy_annotator) (0.7.5)\n",
      "Requirement already satisfied: python-dateutil>=2.7.3 in c:\\users\\izard\\anaconda3\\envs\\pytorch\\lib\\site-packages (from pandas->spacy_annotator) (2.8.2)\n",
      "Requirement already satisfied: pytz>=2017.3 in c:\\users\\izard\\anaconda3\\envs\\pytorch\\lib\\site-packages (from pandas->spacy_annotator) (2022.7)\n",
      "Requirement already satisfied: numpy>=1.17.3 in c:\\users\\izard\\anaconda3\\envs\\pytorch\\lib\\site-packages (from pandas->spacy_annotator) (1.21.5)\n",
      "Requirement already satisfied: murmurhash<1.1.0,>=0.28.0 in c:\\users\\izard\\anaconda3\\envs\\pytorch\\lib\\site-packages (from spacy->spacy_annotator) (1.0.9)\n",
      "Requirement already satisfied: spacy-legacy<3.1.0,>=3.0.11 in c:\\users\\izard\\anaconda3\\envs\\pytorch\\lib\\site-packages (from spacy->spacy_annotator) (3.0.12)\n",
      "Requirement already satisfied: cymem<2.1.0,>=2.0.2 in c:\\users\\izard\\anaconda3\\envs\\pytorch\\lib\\site-packages (from spacy->spacy_annotator) (2.0.7)\n",
      "Requirement already satisfied: langcodes<4.0.0,>=3.2.0 in c:\\users\\izard\\anaconda3\\envs\\pytorch\\lib\\site-packages (from spacy->spacy_annotator) (3.3.0)\n",
      "Requirement already satisfied: smart-open<7.0.0,>=5.2.1 in c:\\users\\izard\\anaconda3\\envs\\pytorch\\lib\\site-packages (from spacy->spacy_annotator) (6.3.0)\n",
      "Requirement already satisfied: tqdm<5.0.0,>=4.38.0 in c:\\users\\izard\\anaconda3\\envs\\pytorch\\lib\\site-packages (from spacy->spacy_annotator) (4.65.0)\n",
      "Requirement already satisfied: jinja2 in c:\\users\\izard\\anaconda3\\envs\\pytorch\\lib\\site-packages (from spacy->spacy_annotator) (3.1.2)\n",
      "Requirement already satisfied: requests<3.0.0,>=2.13.0 in c:\\users\\izard\\anaconda3\\envs\\pytorch\\lib\\site-packages (from spacy->spacy_annotator) (2.28.1)\n",
      "Requirement already satisfied: pydantic!=1.8,!=1.8.1,<1.11.0,>=1.7.4 in c:\\users\\izard\\anaconda3\\envs\\pytorch\\lib\\site-packages (from spacy->spacy_annotator) (1.10.7)\n",
      "Requirement already satisfied: thinc<8.2.0,>=8.1.8 in c:\\users\\izard\\anaconda3\\envs\\pytorch\\lib\\site-packages (from spacy->spacy_annotator) (8.1.10)\n",
      "Requirement already satisfied: srsly<3.0.0,>=2.4.3 in c:\\users\\izard\\anaconda3\\envs\\pytorch\\lib\\site-packages (from spacy->spacy_annotator) (2.4.6)\n",
      "Requirement already satisfied: typer<0.8.0,>=0.3.0 in c:\\users\\izard\\anaconda3\\envs\\pytorch\\lib\\site-packages (from spacy->spacy_annotator) (0.7.0)\n",
      "Requirement already satisfied: pathy>=0.10.0 in c:\\users\\izard\\anaconda3\\envs\\pytorch\\lib\\site-packages (from spacy->spacy_annotator) (0.10.1)\n",
      "Requirement already satisfied: catalogue<2.1.0,>=2.0.6 in c:\\users\\izard\\anaconda3\\envs\\pytorch\\lib\\site-packages (from spacy->spacy_annotator) (2.0.8)\n",
      "Requirement already satisfied: packaging>=20.0 in c:\\users\\izard\\appdata\\roaming\\python\\python37\\site-packages (from spacy->spacy_annotator) (23.1)\n",
      "Requirement already satisfied: spacy-loggers<2.0.0,>=1.0.0 in c:\\users\\izard\\anaconda3\\envs\\pytorch\\lib\\site-packages (from spacy->spacy_annotator) (1.0.4)\n",
      "Requirement already satisfied: wasabi<1.2.0,>=0.9.1 in c:\\users\\izard\\anaconda3\\envs\\pytorch\\lib\\site-packages (from spacy->spacy_annotator) (1.1.1)\n",
      "Requirement already satisfied: preshed<3.1.0,>=3.0.2 in c:\\users\\izard\\anaconda3\\envs\\pytorch\\lib\\site-packages (from spacy->spacy_annotator) (3.0.8)\n",
      "Collecting typing-extensions<4.5.0,>=3.7.4.1\n",
      "  Using cached typing_extensions-4.4.0-py3-none-any.whl (26 kB)\n",
      "Requirement already satisfied: zipp>=0.5 in c:\\users\\izard\\anaconda3\\envs\\pytorch\\lib\\site-packages (from catalogue<2.1.0,>=2.0.6->spacy->spacy_annotator) (3.11.0)\n",
      "Requirement already satisfied: psutil in c:\\users\\izard\\appdata\\roaming\\python\\python37\\site-packages (from ipykernel>=4.5.1->ipywidgets>=7.5.1->spacy_annotator) (5.9.5)\n",
      "Requirement already satisfied: debugpy>=1.0 in c:\\users\\izard\\appdata\\roaming\\python\\python37\\site-packages (from ipykernel>=4.5.1->ipywidgets>=7.5.1->spacy_annotator) (1.6.7)\n",
      "Requirement already satisfied: jupyter-client>=6.1.12 in c:\\users\\izard\\appdata\\roaming\\python\\python37\\site-packages (from ipykernel>=4.5.1->ipywidgets>=7.5.1->spacy_annotator) (7.4.9)\n",
      "Requirement already satisfied: pyzmq>=17 in c:\\users\\izard\\appdata\\roaming\\python\\python37\\site-packages (from ipykernel>=4.5.1->ipywidgets>=7.5.1->spacy_annotator) (25.0.2)\n",
      "Requirement already satisfied: tornado>=6.1 in c:\\users\\izard\\appdata\\roaming\\python\\python37\\site-packages (from ipykernel>=4.5.1->ipywidgets>=7.5.1->spacy_annotator) (6.2)\n",
      "Requirement already satisfied: nest-asyncio in c:\\users\\izard\\appdata\\roaming\\python\\python37\\site-packages (from ipykernel>=4.5.1->ipywidgets>=7.5.1->spacy_annotator) (1.5.6)\n",
      "Requirement already satisfied: parso<0.9.0,>=0.8.0 in c:\\users\\izard\\anaconda3\\envs\\pytorch\\lib\\site-packages (from jedi>=0.16->ipython->spacy_annotator) (0.8.3)\n",
      "Requirement already satisfied: fastjsonschema in c:\\users\\izard\\anaconda3\\envs\\pytorch\\lib\\site-packages (from nbformat>=4.2.0->ipywidgets>=7.5.1->spacy_annotator) (2.16.2)\n",
      "Requirement already satisfied: jupyter-core in c:\\users\\izard\\appdata\\roaming\\python\\python37\\site-packages (from nbformat>=4.2.0->ipywidgets>=7.5.1->spacy_annotator) (4.12.0)\n",
      "Requirement already satisfied: importlib-metadata>=3.6 in c:\\users\\izard\\anaconda3\\envs\\pytorch\\lib\\site-packages (from nbformat>=4.2.0->ipywidgets>=7.5.1->spacy_annotator) (6.7.0)\n",
      "Requirement already satisfied: jsonschema>=2.6 in c:\\users\\izard\\anaconda3\\envs\\pytorch\\lib\\site-packages (from nbformat>=4.2.0->ipywidgets>=7.5.1->spacy_annotator) (4.17.3)\n",
      "Requirement already satisfied: wcwidth in c:\\users\\izard\\anaconda3\\envs\\pytorch\\lib\\site-packages (from prompt-toolkit!=3.0.0,!=3.0.1,<3.1.0,>=2.0.0->ipython->spacy_annotator) (0.2.5)\n",
      "Requirement already satisfied: six>=1.5 in c:\\users\\izard\\anaconda3\\envs\\pytorch\\lib\\site-packages (from python-dateutil>=2.7.3->pandas->spacy_annotator) (1.16.0)\n",
      "Requirement already satisfied: idna<4,>=2.5 in c:\\users\\izard\\anaconda3\\envs\\pytorch\\lib\\site-packages (from requests<3.0.0,>=2.13.0->spacy->spacy_annotator) (3.4)\n",
      "Requirement already satisfied: urllib3<1.27,>=1.21.1 in c:\\users\\izard\\anaconda3\\envs\\pytorch\\lib\\site-packages (from requests<3.0.0,>=2.13.0->spacy->spacy_annotator) (1.26.14)\n",
      "Requirement already satisfied: certifi>=2017.4.17 in c:\\users\\izard\\anaconda3\\envs\\pytorch\\lib\\site-packages (from requests<3.0.0,>=2.13.0->spacy->spacy_annotator) (2023.7.22)\n",
      "Requirement already satisfied: charset-normalizer<3,>=2 in c:\\users\\izard\\anaconda3\\envs\\pytorch\\lib\\site-packages (from requests<3.0.0,>=2.13.0->spacy->spacy_annotator) (2.0.4)\n",
      "Requirement already satisfied: blis<0.8.0,>=0.7.8 in c:\\users\\izard\\anaconda3\\envs\\pytorch\\lib\\site-packages (from thinc<8.2.0,>=8.1.8->spacy->spacy_annotator) (0.7.9)\n",
      "Requirement already satisfied: confection<1.0.0,>=0.0.1 in c:\\users\\izard\\anaconda3\\envs\\pytorch\\lib\\site-packages (from thinc<8.2.0,>=8.1.8->spacy->spacy_annotator) (0.0.4)\n",
      "Requirement already satisfied: click<9.0.0,>=7.1.1 in c:\\users\\izard\\anaconda3\\envs\\pytorch\\lib\\site-packages (from typer<0.8.0,>=0.3.0->spacy->spacy_annotator) (8.1.3)\n",
      "Requirement already satisfied: notebook>=4.4.1 in c:\\users\\izard\\anaconda3\\envs\\pytorch\\lib\\site-packages (from widgetsnbextension~=3.5.0->ipywidgets>=7.5.1->spacy_annotator) (6.5.2)\n",
      "Requirement already satisfied: MarkupSafe>=2.0 in c:\\users\\izard\\anaconda3\\envs\\pytorch\\lib\\site-packages (from jinja2->spacy->spacy_annotator) (2.1.1)\n",
      "Requirement already satisfied: importlib-resources>=1.4.0 in c:\\users\\izard\\anaconda3\\envs\\pytorch\\lib\\site-packages (from jsonschema>=2.6->nbformat>=4.2.0->ipywidgets>=7.5.1->spacy_annotator) (5.2.0)\n",
      "Requirement already satisfied: attrs>=17.4.0 in c:\\users\\izard\\anaconda3\\envs\\pytorch\\lib\\site-packages (from jsonschema>=2.6->nbformat>=4.2.0->ipywidgets>=7.5.1->spacy_annotator) (22.1.0)\n",
      "Requirement already satisfied: pkgutil-resolve-name>=1.3.10 in c:\\users\\izard\\anaconda3\\envs\\pytorch\\lib\\site-packages (from jsonschema>=2.6->nbformat>=4.2.0->ipywidgets>=7.5.1->spacy_annotator) (1.3.10)\n",
      "Requirement already satisfied: pyrsistent!=0.17.0,!=0.17.1,!=0.17.2,>=0.14.0 in c:\\users\\izard\\anaconda3\\envs\\pytorch\\lib\\site-packages (from jsonschema>=2.6->nbformat>=4.2.0->ipywidgets>=7.5.1->spacy_annotator) (0.18.0)\n",
      "Requirement already satisfied: entrypoints in c:\\users\\izard\\appdata\\roaming\\python\\python37\\site-packages (from jupyter-client>=6.1.12->ipykernel>=4.5.1->ipywidgets>=7.5.1->spacy_annotator) (0.4)\n",
      "Requirement already satisfied: pywin32>=1.0 in c:\\users\\izard\\appdata\\roaming\\python\\python37\\site-packages (from jupyter-core->nbformat>=4.2.0->ipywidgets>=7.5.1->spacy_annotator) (306)\n",
      "Requirement already satisfied: terminado>=0.8.3 in c:\\users\\izard\\anaconda3\\envs\\pytorch\\lib\\site-packages (from notebook>=4.4.1->widgetsnbextension~=3.5.0->ipywidgets>=7.5.1->spacy_annotator) (0.17.1)\n",
      "Requirement already satisfied: argon2-cffi in c:\\users\\izard\\anaconda3\\envs\\pytorch\\lib\\site-packages (from notebook>=4.4.1->widgetsnbextension~=3.5.0->ipywidgets>=7.5.1->spacy_annotator) (20.1.0)\n",
      "Requirement already satisfied: prometheus-client in c:\\users\\izard\\anaconda3\\envs\\pytorch\\lib\\site-packages (from notebook>=4.4.1->widgetsnbextension~=3.5.0->ipywidgets>=7.5.1->spacy_annotator) (0.14.1)\n",
      "Requirement already satisfied: nbconvert>=5 in c:\\users\\izard\\anaconda3\\envs\\pytorch\\lib\\site-packages (from notebook>=4.4.1->widgetsnbextension~=3.5.0->ipywidgets>=7.5.1->spacy_annotator) (6.4.4)\n",
      "Requirement already satisfied: Send2Trash>=1.8.0 in c:\\users\\izard\\anaconda3\\envs\\pytorch\\lib\\site-packages (from notebook>=4.4.1->widgetsnbextension~=3.5.0->ipywidgets>=7.5.1->spacy_annotator) (1.8.0)\n",
      "Requirement already satisfied: nbclassic>=0.4.7 in c:\\users\\izard\\anaconda3\\envs\\pytorch\\lib\\site-packages (from notebook>=4.4.1->widgetsnbextension~=3.5.0->ipywidgets>=7.5.1->spacy_annotator) (0.5.2)\n",
      "Requirement already satisfied: jupyter-server>=1.8 in c:\\users\\izard\\anaconda3\\envs\\pytorch\\lib\\site-packages (from nbclassic>=0.4.7->notebook>=4.4.1->widgetsnbextension~=3.5.0->ipywidgets>=7.5.1->spacy_annotator) (1.23.4)\n",
      "Requirement already satisfied: notebook-shim>=0.1.0 in c:\\users\\izard\\anaconda3\\envs\\pytorch\\lib\\site-packages (from nbclassic>=0.4.7->notebook>=4.4.1->widgetsnbextension~=3.5.0->ipywidgets>=7.5.1->spacy_annotator) (0.2.2)\n",
      "Requirement already satisfied: testpath in c:\\users\\izard\\anaconda3\\envs\\pytorch\\lib\\site-packages (from nbconvert>=5->notebook>=4.4.1->widgetsnbextension~=3.5.0->ipywidgets>=7.5.1->spacy_annotator) (0.6.0)\n",
      "Requirement already satisfied: pandocfilters>=1.4.1 in c:\\users\\izard\\anaconda3\\envs\\pytorch\\lib\\site-packages (from nbconvert>=5->notebook>=4.4.1->widgetsnbextension~=3.5.0->ipywidgets>=7.5.1->spacy_annotator) (1.5.0)\n",
      "Requirement already satisfied: mistune<2,>=0.8.1 in c:\\users\\izard\\anaconda3\\envs\\pytorch\\lib\\site-packages (from nbconvert>=5->notebook>=4.4.1->widgetsnbextension~=3.5.0->ipywidgets>=7.5.1->spacy_annotator) (0.8.4)\n",
      "Requirement already satisfied: beautifulsoup4 in c:\\users\\izard\\anaconda3\\envs\\pytorch\\lib\\site-packages (from nbconvert>=5->notebook>=4.4.1->widgetsnbextension~=3.5.0->ipywidgets>=7.5.1->spacy_annotator) (4.11.1)\n",
      "Requirement already satisfied: nbclient<0.6.0,>=0.5.0 in c:\\users\\izard\\anaconda3\\envs\\pytorch\\lib\\site-packages (from nbconvert>=5->notebook>=4.4.1->widgetsnbextension~=3.5.0->ipywidgets>=7.5.1->spacy_annotator) (0.5.13)\n",
      "Requirement already satisfied: bleach in c:\\users\\izard\\anaconda3\\envs\\pytorch\\lib\\site-packages (from nbconvert>=5->notebook>=4.4.1->widgetsnbextension~=3.5.0->ipywidgets>=7.5.1->spacy_annotator) (4.1.0)\n",
      "Requirement already satisfied: defusedxml in c:\\users\\izard\\anaconda3\\envs\\pytorch\\lib\\site-packages (from nbconvert>=5->notebook>=4.4.1->widgetsnbextension~=3.5.0->ipywidgets>=7.5.1->spacy_annotator) (0.7.1)\n",
      "Requirement already satisfied: jupyterlab-pygments in c:\\users\\izard\\anaconda3\\envs\\pytorch\\lib\\site-packages (from nbconvert>=5->notebook>=4.4.1->widgetsnbextension~=3.5.0->ipywidgets>=7.5.1->spacy_annotator) (0.1.2)\n",
      "Requirement already satisfied: pywinpty>=1.1.0 in c:\\users\\izard\\anaconda3\\envs\\pytorch\\lib\\site-packages (from terminado>=0.8.3->notebook>=4.4.1->widgetsnbextension~=3.5.0->ipywidgets>=7.5.1->spacy_annotator) (2.0.10)\n",
      "Requirement already satisfied: cffi>=1.0.0 in c:\\users\\izard\\anaconda3\\envs\\pytorch\\lib\\site-packages (from argon2-cffi->notebook>=4.4.1->widgetsnbextension~=3.5.0->ipywidgets>=7.5.1->spacy_annotator) (1.15.1)\n",
      "Requirement already satisfied: pycparser in c:\\users\\izard\\anaconda3\\envs\\pytorch\\lib\\site-packages (from cffi>=1.0.0->argon2-cffi->notebook>=4.4.1->widgetsnbextension~=3.5.0->ipywidgets>=7.5.1->spacy_annotator) (2.21)\n",
      "Requirement already satisfied: anyio<4,>=3.1.0 in c:\\users\\izard\\anaconda3\\envs\\pytorch\\lib\\site-packages (from jupyter-server>=1.8->nbclassic>=0.4.7->notebook>=4.4.1->widgetsnbextension~=3.5.0->ipywidgets>=7.5.1->spacy_annotator) (3.5.0)\n",
      "Requirement already satisfied: websocket-client in c:\\users\\izard\\anaconda3\\envs\\pytorch\\lib\\site-packages (from jupyter-server>=1.8->nbclassic>=0.4.7->notebook>=4.4.1->widgetsnbextension~=3.5.0->ipywidgets>=7.5.1->spacy_annotator) (0.58.0)\n",
      "Requirement already satisfied: soupsieve>1.2 in c:\\users\\izard\\anaconda3\\envs\\pytorch\\lib\\site-packages (from beautifulsoup4->nbconvert>=5->notebook>=4.4.1->widgetsnbextension~=3.5.0->ipywidgets>=7.5.1->spacy_annotator) (2.3.2.post1)\n",
      "Requirement already satisfied: webencodings in c:\\users\\izard\\anaconda3\\envs\\pytorch\\lib\\site-packages (from bleach->nbconvert>=5->notebook>=4.4.1->widgetsnbextension~=3.5.0->ipywidgets>=7.5.1->spacy_annotator) (0.5.1)\n",
      "Requirement already satisfied: sniffio>=1.1 in c:\\users\\izard\\anaconda3\\envs\\pytorch\\lib\\site-packages (from anyio<4,>=3.1.0->jupyter-server>=1.8->nbclassic>=0.4.7->notebook>=4.4.1->widgetsnbextension~=3.5.0->ipywidgets>=7.5.1->spacy_annotator) (1.2.0)\n",
      "Installing collected packages: typing-extensions, spacy_annotator\n",
      "  Attempting uninstall: typing-extensions\n",
      "    Found existing installation: typing_extensions 4.7.1\n",
      "    Uninstalling typing_extensions-4.7.1:\n",
      "      Successfully uninstalled typing_extensions-4.7.1\n",
      "Successfully installed spacy_annotator-2.1.3 typing-extensions-4.4.0\n"
     ]
    },
    {
     "name": "stderr",
     "output_type": "stream",
     "text": [
      "ERROR: pip's dependency resolver does not currently take into account all the packages that are installed. This behaviour is the source of the following dependency conflicts.\n",
      "platformdirs 3.11.0 requires typing-extensions>=4.7.1; python_version < \"3.8\", but you have typing-extensions 4.4.0 which is incompatible.\n",
      "flake8 5.0.4 requires importlib-metadata<4.3,>=1.1.0; python_version < \"3.8\", but you have importlib-metadata 6.7.0 which is incompatible.\n",
      "fake-useragent 1.2.1 requires importlib-metadata~=4.0; python_version < \"3.8\", but you have importlib-metadata 6.7.0 which is incompatible.\n"
     ]
    }
   ],
   "source": [
    "! pip install spacy_annotator"
   ]
  },
  {
   "cell_type": "code",
   "execution_count": 3,
   "metadata": {},
   "outputs": [],
   "source": [
    "#nlp = spacy.blank(\"en\") # load a new spacy model for first time \n",
    "nlp = spacy.load(\"output/model-best\") # load custom model after first time train"
   ]
  },
  {
   "cell_type": "code",
   "execution_count": 5,
   "metadata": {},
   "outputs": [
    {
     "data": {
      "text/html": [
       "<div>\n",
       "<style scoped>\n",
       "    .dataframe tbody tr th:only-of-type {\n",
       "        vertical-align: middle;\n",
       "    }\n",
       "\n",
       "    .dataframe tbody tr th {\n",
       "        vertical-align: top;\n",
       "    }\n",
       "\n",
       "    .dataframe thead th {\n",
       "        text-align: right;\n",
       "    }\n",
       "</style>\n",
       "<table border=\"1\" class=\"dataframe\">\n",
       "  <thead>\n",
       "    <tr style=\"text-align: right;\">\n",
       "      <th></th>\n",
       "      <th>text</th>\n",
       "    </tr>\n",
       "  </thead>\n",
       "  <tbody>\n",
       "    <tr>\n",
       "      <th>0</th>\n",
       "      <td>S P Setia is expanding its footprint in Austra...</td>\n",
       "    </tr>\n",
       "    <tr>\n",
       "      <th>1</th>\n",
       "      <td>Domestic flights were cancelled and almost 3,0...</td>\n",
       "    </tr>\n",
       "    <tr>\n",
       "      <th>2</th>\n",
       "      <td>RAM Ratings has placed KLK and Batu Kawan on a...</td>\n",
       "    </tr>\n",
       "    <tr>\n",
       "      <th>3</th>\n",
       "      <td>+4.8%), reaching RM587.5b contribution to tota...</td>\n",
       "    </tr>\n",
       "    <tr>\n",
       "      <th>4</th>\n",
       "      <td>Prime Minister Datuk Seri Anwar Ibrahim will l...</td>\n",
       "    </tr>\n",
       "    <tr>\n",
       "      <th>5</th>\n",
       "      <td>Hong Leong Financial Group’s FY23 Core net pro...</td>\n",
       "    </tr>\n",
       "    <tr>\n",
       "      <th>6</th>\n",
       "      <td>Bank Negara Malaysia had on 18 May 2023, impos...</td>\n",
       "    </tr>\n",
       "    <tr>\n",
       "      <th>7</th>\n",
       "      <td>Bank Negara Malaysia had, on 29 December 2022,...</td>\n",
       "    </tr>\n",
       "    <tr>\n",
       "      <th>8</th>\n",
       "      <td>Indonesia’s Nusantara Capital City Authority i...</td>\n",
       "    </tr>\n",
       "    <tr>\n",
       "      <th>9</th>\n",
       "      <td>ASEANmember countries need to collaborate to m...</td>\n",
       "    </tr>\n",
       "  </tbody>\n",
       "</table>\n",
       "</div>"
      ],
      "text/plain": [
       "                                                text\n",
       "0  S P Setia is expanding its footprint in Austra...\n",
       "1  Domestic flights were cancelled and almost 3,0...\n",
       "2  RAM Ratings has placed KLK and Batu Kawan on a...\n",
       "3  +4.8%), reaching RM587.5b contribution to tota...\n",
       "4  Prime Minister Datuk Seri Anwar Ibrahim will l...\n",
       "5  Hong Leong Financial Group’s FY23 Core net pro...\n",
       "6  Bank Negara Malaysia had on 18 May 2023, impos...\n",
       "7  Bank Negara Malaysia had, on 29 December 2022,...\n",
       "8  Indonesia’s Nusantara Capital City Authority i...\n",
       "9  ASEANmember countries need to collaborate to m..."
      ]
     },
     "execution_count": 5,
     "metadata": {},
     "output_type": "execute_result"
    }
   ],
   "source": [
    "# prepare train data\n",
    "import spacy_annotator as spa\n",
    "\n",
    "train_data=pd.DataFrame({\n",
    "    \"text\":pd.read_parquet('./sample.parquet').loc[91:100]['Content'].tolist()})\n",
    "\n",
    "train_data=train_data[~((train_data['text'].str.contains('[\\u4e00-\\u9fff]+'))|(train_data['text'].isnull()))].reset_index(drop=True)\n",
    "train_data['text']=train_data['text'].str.replace(r'(.+\\d\\)\\:)|(.+[A-Z]\\):)|(.+[A-Z]:)','',regex=True).str.strip()\n",
    "train_data"
   ]
  },
  {
   "attachments": {},
   "cell_type": "markdown",
   "metadata": {},
   "source": [
    "### Reference for Text Annotation\n",
    "\n",
    "> - <sup>PERSON:      People, including fictional.</sup>\n",
    "> - <sup>NORP:        Nationalities or religious or political groups.</sup>\n",
    "> - <sup>FAC:         Buildings, airports, highways, bridges, etc.</sup>\n",
    "> - <sup>ORG:         Companies, agencies, institutions, etc.</sup>\n",
    "> - <sup>GPE:         Countries, cities, states.</sup>\n",
    "> - <sup>LOC:         Non-GPE locations, mountain ranges, bodies of water.</sup>\n",
    "> - <sup>PRODUCT:     Objects, vehicles, foods, etc. (Not services.)</sup>\n",
    "> - <sup>EVENT:       Named hurricanes, battles, wars, sports events, etc.</sup>\n",
    "> - <sup>WORK_OF_ART: Titles of books, songs, etc.</sup>\n",
    "> - <sup>LAW:         Named documents made into laws.</sup>\n",
    "> - <sup>LANGUAGE:    Any named language.</sup>\n",
    "> - <sup>DATE:        Absolute or relative dates or periods.</sup>\n",
    "> - <sup>TIME:        Times smaller than a day.</sup>\n",
    "> - <sup>PERCENT:     Percentage, including ”%“.</sup>\n",
    "> - <sup>MONEY:       Monetary values, including unit.</sup>\n",
    "> - <sup>QUANTITY:    Measurements, as of weight or distance.</sup>\n",
    "> - <sup>ORDINAL:     “first”, “second”, etc.</sup>\n",
    "> - <sup>CARDINAL:    Numerals that do not fall under another type.</sup>"
   ]
  },
  {
   "cell_type": "code",
   "execution_count": 6,
   "metadata": {},
   "outputs": [],
   "source": [
    "annotator=spa.Annotator(labels=[\"GPE\",\"PERSON\",\"ORG\",\"FAC\",\"MONEY\",\"NORP\",\"LOC\",\"PRODUCT\",\"EVENT\",\"PERCENT\",\"WORK_OF_ART\",\"TIME\",\"ORDINAL\",\"CARDINAL\",\"QUANTITY\",\"LAW\"],model=nlp) #annotate train data"
   ]
  },
  {
   "cell_type": "code",
   "execution_count": 7,
   "metadata": {},
   "outputs": [
    {
     "data": {
      "application/vnd.jupyter.widget-view+json": {
       "model_id": "181d69872c754848ac5df0d15249784c",
       "version_major": 2,
       "version_minor": 0
      },
      "text/plain": [
       "HTML(value='-1 examples annotated, 11 examples left')"
      ]
     },
     "metadata": {},
     "output_type": "display_data"
    },
    {
     "data": {
      "application/vnd.jupyter.widget-view+json": {
       "model_id": "aba94556efcd42ac9e1a6e5b0e63d324",
       "version_major": 2,
       "version_minor": 0
      },
      "text/plain": [
       "Text(value='', description='GPE', layout=Layout(width='auto'), placeholder='ent one, ent two, ent three')"
      ]
     },
     "metadata": {},
     "output_type": "display_data"
    },
    {
     "data": {
      "application/vnd.jupyter.widget-view+json": {
       "model_id": "0714a48f1330481a8d6792a97c38dced",
       "version_major": 2,
       "version_minor": 0
      },
      "text/plain": [
       "Text(value='', description='PERSON', layout=Layout(width='auto'), placeholder='ent one, ent two, ent three')"
      ]
     },
     "metadata": {},
     "output_type": "display_data"
    },
    {
     "data": {
      "application/vnd.jupyter.widget-view+json": {
       "model_id": "9d8e394098b14da39b38441e20c4a68e",
       "version_major": 2,
       "version_minor": 0
      },
      "text/plain": [
       "Text(value='', description='ORG', layout=Layout(width='auto'), placeholder='ent one, ent two, ent three')"
      ]
     },
     "metadata": {},
     "output_type": "display_data"
    },
    {
     "data": {
      "application/vnd.jupyter.widget-view+json": {
       "model_id": "369e36b6835247dcb50a06d6ea633b79",
       "version_major": 2,
       "version_minor": 0
      },
      "text/plain": [
       "Text(value='', description='FAC', layout=Layout(width='auto'), placeholder='ent one, ent two, ent three')"
      ]
     },
     "metadata": {},
     "output_type": "display_data"
    },
    {
     "data": {
      "application/vnd.jupyter.widget-view+json": {
       "model_id": "9bff0e075bb54862ba10223303db21c9",
       "version_major": 2,
       "version_minor": 0
      },
      "text/plain": [
       "Text(value='', description='MONEY', layout=Layout(width='auto'), placeholder='ent one, ent two, ent three')"
      ]
     },
     "metadata": {},
     "output_type": "display_data"
    },
    {
     "data": {
      "application/vnd.jupyter.widget-view+json": {
       "model_id": "8ed6e78259944a708088cfbbda1d8012",
       "version_major": 2,
       "version_minor": 0
      },
      "text/plain": [
       "Text(value='', description='NORP', layout=Layout(width='auto'), placeholder='ent one, ent two, ent three')"
      ]
     },
     "metadata": {},
     "output_type": "display_data"
    },
    {
     "data": {
      "application/vnd.jupyter.widget-view+json": {
       "model_id": "1f90399d832640f6a73fd5a0d4940bf5",
       "version_major": 2,
       "version_minor": 0
      },
      "text/plain": [
       "Text(value='', description='LOC', layout=Layout(width='auto'), placeholder='ent one, ent two, ent three')"
      ]
     },
     "metadata": {},
     "output_type": "display_data"
    },
    {
     "data": {
      "application/vnd.jupyter.widget-view+json": {
       "model_id": "0e5fa2305cbf4d5292c6e217332cac39",
       "version_major": 2,
       "version_minor": 0
      },
      "text/plain": [
       "Text(value='', description='PRODUCT', layout=Layout(width='auto'), placeholder='ent one, ent two, ent three')"
      ]
     },
     "metadata": {},
     "output_type": "display_data"
    },
    {
     "data": {
      "application/vnd.jupyter.widget-view+json": {
       "model_id": "58c15d8664274de4af3aa1715c529fcc",
       "version_major": 2,
       "version_minor": 0
      },
      "text/plain": [
       "Text(value='', description='EVENT', layout=Layout(width='auto'), placeholder='ent one, ent two, ent three')"
      ]
     },
     "metadata": {},
     "output_type": "display_data"
    },
    {
     "data": {
      "application/vnd.jupyter.widget-view+json": {
       "model_id": "a2922269bed747eabffdb43cde773cad",
       "version_major": 2,
       "version_minor": 0
      },
      "text/plain": [
       "Text(value='', description='PERCENT', layout=Layout(width='auto'), placeholder='ent one, ent two, ent three')"
      ]
     },
     "metadata": {},
     "output_type": "display_data"
    },
    {
     "data": {
      "application/vnd.jupyter.widget-view+json": {
       "model_id": "8b84d3dedc8444a7b7ac5d368ff0d799",
       "version_major": 2,
       "version_minor": 0
      },
      "text/plain": [
       "Text(value='', description='WORK_OF_ART', layout=Layout(width='auto'), placeholder='ent one, ent two, ent thre…"
      ]
     },
     "metadata": {},
     "output_type": "display_data"
    },
    {
     "data": {
      "application/vnd.jupyter.widget-view+json": {
       "model_id": "f50541b11c574c8e8b311bab5f130e0b",
       "version_major": 2,
       "version_minor": 0
      },
      "text/plain": [
       "Text(value='', description='TIME', layout=Layout(width='auto'), placeholder='ent one, ent two, ent three')"
      ]
     },
     "metadata": {},
     "output_type": "display_data"
    },
    {
     "data": {
      "application/vnd.jupyter.widget-view+json": {
       "model_id": "c78ca810f0d54374aa0b7da178b4f765",
       "version_major": 2,
       "version_minor": 0
      },
      "text/plain": [
       "Text(value='', description='ORDINAL', layout=Layout(width='auto'), placeholder='ent one, ent two, ent three')"
      ]
     },
     "metadata": {},
     "output_type": "display_data"
    },
    {
     "data": {
      "application/vnd.jupyter.widget-view+json": {
       "model_id": "f960982171a144adbc3981161df1c539",
       "version_major": 2,
       "version_minor": 0
      },
      "text/plain": [
       "Text(value='', description='CARDINAL', layout=Layout(width='auto'), placeholder='ent one, ent two, ent three')"
      ]
     },
     "metadata": {},
     "output_type": "display_data"
    },
    {
     "data": {
      "application/vnd.jupyter.widget-view+json": {
       "model_id": "030c9b0cc20c404582b7eb981880dfca",
       "version_major": 2,
       "version_minor": 0
      },
      "text/plain": [
       "Text(value='', description='QUANTITY', layout=Layout(width='auto'), placeholder='ent one, ent two, ent three')"
      ]
     },
     "metadata": {},
     "output_type": "display_data"
    },
    {
     "data": {
      "application/vnd.jupyter.widget-view+json": {
       "model_id": "2aed76f74d904bec92af485d632306b4",
       "version_major": 2,
       "version_minor": 0
      },
      "text/plain": [
       "Text(value='', description='LAW', layout=Layout(width='auto'), placeholder='ent one, ent two, ent three')"
      ]
     },
     "metadata": {},
     "output_type": "display_data"
    },
    {
     "data": {
      "application/vnd.jupyter.widget-view+json": {
       "model_id": "f1c0fefa464e42c6ba37dce05ffb8ae9",
       "version_major": 2,
       "version_minor": 0
      },
      "text/plain": [
       "HBox(children=(Button(button_style='success', description='submit', style=ButtonStyle()), Button(button_style=…"
      ]
     },
     "metadata": {},
     "output_type": "display_data"
    },
    {
     "data": {
      "application/vnd.jupyter.widget-view+json": {
       "model_id": "74300276a4f04a6496d73118036fe963",
       "version_major": 2,
       "version_minor": 0
      },
      "text/plain": [
       "Output()"
      ]
     },
     "metadata": {},
     "output_type": "display_data"
    }
   ],
   "source": [
    "df_labels=annotator.annotate(df=train_data,col_text=\"text\",shuffle=False)"
   ]
  },
  {
   "cell_type": "code",
   "execution_count": null,
   "metadata": {},
   "outputs": [],
   "source": [
    "spacy_annotations = annotator.to_spacy(df_labels,\"./train/train_1_100.spacy\")"
   ]
  },
  {
   "cell_type": "code",
   "execution_count": 7,
   "metadata": {},
   "outputs": [
    {
     "name": "stdout",
     "output_type": "stream",
     "text": [
      "\u001b[38;5;2m✔ Auto-filled config with all values\u001b[0m\n",
      "\u001b[38;5;2m✔ Saved config\u001b[0m\n",
      "config.cfg\n",
      "You can now add your data and train your pipeline:\n",
      "python -m spacy train config.cfg --paths.train ./train.spacy --paths.dev ./dev.spacy\n"
     ]
    }
   ],
   "source": [
    "# to re-wrote config.cfg file\n",
    "! python -m spacy init fill-config base_config_gpu.cfg config.cfg\n"
   ]
  },
  {
   "cell_type": "code",
   "execution_count": 2,
   "metadata": {},
   "outputs": [
    {
     "name": "stdout",
     "output_type": "stream",
     "text": [
      "\u001b[38;5;4mℹ Saving to output directory: output\u001b[0m\n",
      "\u001b[38;5;4mℹ Using GPU: 0\u001b[0m\n",
      "\u001b[1m\n",
      "=========================== Initializing pipeline ===========================\u001b[0m\n",
      "\u001b[38;5;2m✔ Initialized pipeline\u001b[0m\n",
      "\u001b[1m\n",
      "============================= Training pipeline =============================\u001b[0m\n",
      "\u001b[38;5;4mℹ Pipeline: ['tok2vec', 'ner']\u001b[0m\n",
      "\u001b[38;5;4mℹ Initial learn rate: 0.001\u001b[0m\n",
      "E    #       LOSS TOK2VEC  LOSS NER  ENTS_F  ENTS_P  ENTS_R  SCORE \n",
      "---  ------  ------------  --------  ------  ------  ------  ------\n",
      "  0       0          0.00    381.24    1.06    0.62    3.57    0.01\n",
      "  0     200       4253.69  11645.59   35.82   39.19   32.98    0.36\n",
      "  0     400       3457.65   4620.40   56.50   64.28   50.40    0.57\n",
      "  0     600       2582.50   3858.37   69.60   71.98   67.38    0.70\n",
      "  0     800      19461.62   3423.36   70.83   69.64   72.07    0.71\n",
      "  0    1000      23004.51   3019.15   68.21   81.29   58.75    0.68\n",
      "  0    1200       2030.44   3111.36   74.18   74.38   73.98    0.74\n",
      "  0    1400      46306.04   2741.25   76.77   77.06   76.48    0.77\n",
      "  0    1600      10784.35   3361.55   74.07   86.17   64.95    0.74\n",
      "  0    1800      17802.42   2930.21   77.49   76.94   78.04    0.77\n",
      "  1    2000       2105.22   2244.36   78.41   76.96   79.92    0.78\n",
      "  1    2200       1052.70   2545.51   80.86   82.55   79.23    0.81\n",
      "  1    2400        664.10   2640.57   80.67   85.63   76.26    0.81\n",
      "  1    2600       4726.77   2377.42   80.38   80.97   79.79    0.80\n",
      "  1    2800      14858.83   2354.83   82.86   80.37   85.51    0.83\n",
      "  1    3000       2079.83   2250.48   81.51   81.78   81.25    0.82\n",
      "  1    3200        870.15   2193.31   82.32   81.83   82.82    0.82\n",
      "  1    3400        817.53   2395.50   82.27   78.49   86.42    0.82\n",
      "  1    3600       2967.45   1930.21   84.17   83.63   84.72    0.84\n",
      "  2    3800       2691.86   1758.33   81.10   88.67   74.71    0.81\n",
      "  2    4000       1808.57   1805.24   83.61   90.09   77.99    0.84\n",
      "  2    4200      24025.68   2092.10   84.26   84.66   83.87    0.84\n",
      "  2    4400      10492.57   2032.57   85.69   87.33   84.12    0.86\n",
      "  2    4600      10890.40   2042.50   85.33   89.06   81.90    0.85\n",
      "  2    4800      30687.37   2541.84   83.81   83.27   84.35    0.84\n",
      "  2    5000       4393.54   2498.80   87.09   86.30   87.90    0.87\n",
      "  2    5200      17505.87   2255.35   86.27   90.07   82.77    0.86\n",
      "  3    5400       1052.78   2169.08   87.14   85.52   88.82    0.87\n",
      "  3    5600       5773.29   2111.38   87.98   86.91   89.07    0.88\n",
      "  3    5800       6018.51   2491.79   88.57   89.71   87.45    0.89\n",
      "  3    6000       3574.16   2660.30   89.38   89.19   89.56    0.89\n",
      "  3    6200      34194.29   3131.17   90.12   90.98   89.28    0.90\n",
      "  4    6400       1741.45   2605.59   90.40   90.66   90.15    0.90\n",
      "  4    6600       1072.36   2164.97   89.54   88.62   90.47    0.90\n",
      "  4    6800       6571.39   2635.87   89.76   90.97   88.58    0.90\n",
      "  4    7000       3443.84   2216.98   90.82   91.22   90.43    0.91\n",
      "  4    7200       2236.68   2720.50   90.83   91.21   90.45    0.91\n",
      "  5    7400       1316.86   2446.51   91.15   90.16   92.16    0.91\n",
      "  5    7600       1168.76   1966.06   90.72   90.41   91.03    0.91\n",
      "  5    7800       1522.49   2230.68   91.59   92.25   90.94    0.92\n",
      "  5    8000       1638.18   2326.23   91.67   90.59   92.78    0.92\n",
      "  5    8200       2902.42   2136.90   91.60   91.20   91.99    0.92\n",
      "  6    8400       2235.58   2086.22   91.64   92.48   90.82    0.92\n",
      "  6    8600       1370.17   1835.93   91.94   92.92   90.98    0.92\n",
      "  6    8800       1544.18   1957.37   91.57   94.41   88.91    0.92\n",
      "  6    9000       1430.20   2003.85   92.44   92.98   91.90    0.92\n",
      "  6    9200       3105.01   2175.14   92.67   92.04   93.30    0.93\n",
      "  7    9400       1749.17   1723.09   92.85   94.05   91.67    0.93\n",
      "  7    9600       5410.93   1882.52   92.84   93.10   92.58    0.93\n",
      "  7    9800       1807.12   1857.80   93.15   93.96   92.35    0.93\n",
      "  7   10000       1364.63   1698.95   92.98   94.03   91.95    0.93\n",
      "  7   10200       2275.42   2047.55   92.95   94.75   91.23    0.93\n",
      "  8   10400       2035.52   1733.19   93.31   93.46   93.16    0.93\n",
      "  8   10600       1871.53   1725.60   93.48   92.68   94.29    0.93\n",
      "  8   10800       1767.10   1737.74   93.66   93.28   94.05    0.94\n",
      "  8   11000       1555.02   1624.80   94.02   94.74   93.31    0.94\n",
      "  8   11200       1553.49   1583.49   93.92   95.03   92.83    0.94\n",
      "  9   11400       2018.07   1651.90   93.87   93.16   94.58    0.94\n",
      "  9   11600       2372.50   1756.08   94.24   94.44   94.04    0.94\n",
      "  9   11800       1931.50   1596.27   94.04   95.27   92.84    0.94\n",
      "  9   12000       1857.46   1645.19   94.43   94.53   94.33    0.94\n",
      " 10   12200       2036.80   1537.38   94.77   94.78   94.76    0.95\n",
      " 10   12400       1642.69   1263.69   94.95   94.60   95.31    0.95\n",
      " 10   12600       2429.19   1548.28   94.49   94.14   94.85    0.94\n",
      " 10   12800       2084.76   1550.11   95.04   95.51   94.58    0.95\n",
      " 10   13000       2331.61   1506.80   94.91   94.81   95.02    0.95\n",
      " 11   13200       2055.45   1512.60   94.87   94.51   95.23    0.95\n",
      " 11   13400       2009.48   1178.05   94.91   95.84   94.00    0.95\n",
      " 11   13600       2574.35   1439.93   95.28   95.12   95.45    0.95\n",
      " 11   13800       2413.22   1571.22   95.56   95.83   95.30    0.96\n",
      " 11   14000       2685.73   1459.32   94.48   94.21   94.75    0.94\n",
      " 12   14200       2221.50   1359.27   95.24   95.40   95.09    0.95\n",
      " 12   14400       4103.93   1336.08   95.44   95.68   95.21    0.95\n",
      " 12   14600       2270.86   1138.82   95.25   95.63   94.86    0.95\n",
      " 12   14800       2806.02   1423.06   95.50   95.56   95.45    0.96\n",
      " 12   15000       2581.60   1535.37   95.47   95.87   95.08    0.95\n",
      " 13   15200       2659.23   1338.99   95.84   95.00   96.69    0.96\n",
      " 13   15400      11663.88   1231.46   95.79   95.56   96.03    0.96\n",
      " 13   15600       3050.07   1246.56   95.77   95.69   95.85    0.96\n",
      " 13   15800       2817.10   1298.65   96.01   96.01   96.01    0.96\n",
      " 13   16000       3060.06   1450.17   96.19   96.21   96.17    0.96\n",
      " 14   16200       2314.67   1192.53   96.16   95.95   96.36    0.96\n",
      " 14   16400       2403.61   1224.40   95.70   95.08   96.32    0.96\n",
      " 14   16600     104286.82   1509.93   95.97   96.90   95.06    0.96\n",
      " 14   16800       3583.74   1082.83   95.72   95.46   95.98    0.96\n",
      " 14   17000       2979.31   1311.98   95.96   96.36   95.58    0.96\n",
      " 15   17200       2499.76    947.64   95.91   96.79   95.04    0.96\n",
      " 15   17400       3202.99   1157.14   96.26   97.17   95.36    0.96\n",
      " 15   17600       2697.03   1076.09   96.26   95.70   96.82    0.96\n",
      " 15   17800       4982.49   1380.24   96.17   97.23   95.14    0.96\n",
      " 15   18000       8722.12   1293.60   96.47   96.50   96.44    0.96\n",
      " 16   18200       2296.01    832.69   96.55   96.79   96.32    0.97\n",
      " 16   18400       3528.94   1152.14   96.69   97.02   96.37    0.97\n",
      " 16   18600       3400.46   1076.00   96.61   96.87   96.35    0.97\n",
      " 16   18800       3156.61   1323.12   96.82   96.85   96.80    0.97\n",
      " 17   19000       2771.55   1039.92   96.80   96.96   96.64    0.97\n",
      " 17   19200       2625.67    836.31   96.85   97.30   96.39    0.97\n",
      " 17   19400       3367.94    924.94   96.61   97.33   95.90    0.97\n",
      " 17   19600       2835.82    990.30   96.75   96.40   97.11    0.97\n",
      " 17   19800       3259.03   1078.60   96.50   95.83   97.18    0.97\n",
      " 18   20000       6040.78   1237.59   96.90   97.11   96.70    0.97\n",
      "\u001b[38;5;2m✔ Saved pipeline to output directory\u001b[0m\n",
      "output\\model-last\n"
     ]
    },
    {
     "name": "stderr",
     "output_type": "stream",
     "text": [
      "[2024-07-23 12:28:22,660] [INFO] Set up nlp object from config\n",
      "[2024-07-23 12:28:22,670] [INFO] Pipeline: ['tok2vec', 'ner']\n",
      "[2024-07-23 12:28:22,674] [INFO] Created vocabulary\n",
      "[2024-07-23 12:28:22,674] [INFO] Finished initializing nlp object\n",
      "[2024-07-23 12:28:37,242] [INFO] Initialized pipeline components: ['tok2vec', 'ner']\n"
     ]
    }
   ],
   "source": [
    "# to train\n",
    "! python -m spacy train config.cfg --output ./output --paths.train ./train --paths.dev ./train --gpu-id 0"
   ]
  }
 ],
 "metadata": {
  "kernelspec": {
   "display_name": "Python 3",
   "language": "python",
   "name": "python3"
  },
  "language_info": {
   "codemirror_mode": {
    "name": "ipython",
    "version": 3
   },
   "file_extension": ".py",
   "mimetype": "text/x-python",
   "name": "python",
   "nbconvert_exporter": "python",
   "pygments_lexer": "ipython3",
   "version": "3.7.16"
  },
  "orig_nbformat": 4,
  "vscode": {
   "interpreter": {
    "hash": "31f2aee4e71d21fbe5cf8b01ff0e069b9275f58929596ceb00d14d90e3e16cd6"
   }
  }
 },
 "nbformat": 4,
 "nbformat_minor": 2
}
